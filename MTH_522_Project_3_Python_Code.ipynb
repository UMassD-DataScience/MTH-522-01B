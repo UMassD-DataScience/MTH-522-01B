{
 "cells": [
  {
   "cell_type": "code",
   "execution_count": 1,
   "metadata": {
    "id": "YAQIo8u-ggcI"
   },
   "outputs": [],
   "source": [
    "#Import all the libraries\n",
    "import pandas as pd\n",
    "import numpy as np\n",
    "import matplotlib.pyplot as plt\n",
    "import seaborn as sns\n",
    "from statsmodels.tsa.seasonal import seasonal_decompose\n",
    "from statsmodels.tsa.holtwinters import SimpleExpSmoothing\n",
    "from statsmodels.tsa.holtwinters import Holt \n",
    "from statsmodels.tsa.holtwinters import ExponentialSmoothing\n",
    "import warnings\n",
    "warnings.simplefilter(\"ignore\")"
   ]
  },
  {
   "cell_type": "code",
   "execution_count": 2,
   "metadata": {
    "colab": {
     "base_uri": "https://localhost:8080/",
     "height": 73
    },
    "id": "_m3NCkDThEoG",
    "outputId": "5458e3c6-ee45-49ae-e04a-4f31b91c888f"
   },
   "outputs": [],
   "source": [
    "#Read the Dataset\n",
    "climate = pd.read_excel(\"C:/Users/sujik/OneDrive/Documents/MS - Data Science/Semester 3 (Fall_23)/MTH 522 - Advanced Mathematical Stats/Project 3/Boston_climate.xlsx\")"
   ]
  },
  {
   "cell_type": "code",
   "execution_count": 3,
   "metadata": {},
   "outputs": [
    {
     "data": {
      "text/html": [
       "<div>\n",
       "<style scoped>\n",
       "    .dataframe tbody tr th:only-of-type {\n",
       "        vertical-align: middle;\n",
       "    }\n",
       "\n",
       "    .dataframe tbody tr th {\n",
       "        vertical-align: top;\n",
       "    }\n",
       "\n",
       "    .dataframe thead th {\n",
       "        text-align: right;\n",
       "    }\n",
       "</style>\n",
       "<table border=\"1\" class=\"dataframe\">\n",
       "  <thead>\n",
       "    <tr style=\"text-align: right;\">\n",
       "      <th></th>\n",
       "      <th>Date</th>\n",
       "      <th>Temp_Avg</th>\n",
       "    </tr>\n",
       "  </thead>\n",
       "  <tbody>\n",
       "    <tr>\n",
       "      <th>0</th>\n",
       "      <td>2019-01-01</td>\n",
       "      <td>30.7</td>\n",
       "    </tr>\n",
       "    <tr>\n",
       "      <th>1</th>\n",
       "      <td>2019-02-01</td>\n",
       "      <td>33.5</td>\n",
       "    </tr>\n",
       "    <tr>\n",
       "      <th>2</th>\n",
       "      <td>2019-03-01</td>\n",
       "      <td>39.1</td>\n",
       "    </tr>\n",
       "    <tr>\n",
       "      <th>3</th>\n",
       "      <td>2019-04-01</td>\n",
       "      <td>51.7</td>\n",
       "    </tr>\n",
       "    <tr>\n",
       "      <th>4</th>\n",
       "      <td>2019-05-01</td>\n",
       "      <td>57.8</td>\n",
       "    </tr>\n",
       "  </tbody>\n",
       "</table>\n",
       "</div>"
      ],
      "text/plain": [
       "        Date  Temp_Avg\n",
       "0 2019-01-01      30.7\n",
       "1 2019-02-01      33.5\n",
       "2 2019-03-01      39.1\n",
       "3 2019-04-01      51.7\n",
       "4 2019-05-01      57.8"
      ]
     },
     "execution_count": 3,
     "metadata": {},
     "output_type": "execute_result"
    }
   ],
   "source": [
    "#Displaying the first five rows of the dataset\n",
    "climate.head()"
   ]
  },
  {
   "cell_type": "code",
   "execution_count": 4,
   "metadata": {},
   "outputs": [
    {
     "data": {
      "text/html": [
       "<div>\n",
       "<style scoped>\n",
       "    .dataframe tbody tr th:only-of-type {\n",
       "        vertical-align: middle;\n",
       "    }\n",
       "\n",
       "    .dataframe tbody tr th {\n",
       "        vertical-align: top;\n",
       "    }\n",
       "\n",
       "    .dataframe thead th {\n",
       "        text-align: right;\n",
       "    }\n",
       "</style>\n",
       "<table border=\"1\" class=\"dataframe\">\n",
       "  <thead>\n",
       "    <tr style=\"text-align: right;\">\n",
       "      <th></th>\n",
       "      <th>Temp_Avg</th>\n",
       "    </tr>\n",
       "  </thead>\n",
       "  <tbody>\n",
       "    <tr>\n",
       "      <th>count</th>\n",
       "      <td>59.000000</td>\n",
       "    </tr>\n",
       "    <tr>\n",
       "      <th>mean</th>\n",
       "      <td>53.981356</td>\n",
       "    </tr>\n",
       "    <tr>\n",
       "      <th>std</th>\n",
       "      <td>15.347745</td>\n",
       "    </tr>\n",
       "    <tr>\n",
       "      <th>min</th>\n",
       "      <td>27.400000</td>\n",
       "    </tr>\n",
       "    <tr>\n",
       "      <th>25%</th>\n",
       "      <td>40.000000</td>\n",
       "    </tr>\n",
       "    <tr>\n",
       "      <th>50%</th>\n",
       "      <td>54.700000</td>\n",
       "    </tr>\n",
       "    <tr>\n",
       "      <th>75%</th>\n",
       "      <td>67.950000</td>\n",
       "    </tr>\n",
       "    <tr>\n",
       "      <th>max</th>\n",
       "      <td>78.700000</td>\n",
       "    </tr>\n",
       "  </tbody>\n",
       "</table>\n",
       "</div>"
      ],
      "text/plain": [
       "        Temp_Avg\n",
       "count  59.000000\n",
       "mean   53.981356\n",
       "std    15.347745\n",
       "min    27.400000\n",
       "25%    40.000000\n",
       "50%    54.700000\n",
       "75%    67.950000\n",
       "max    78.700000"
      ]
     },
     "execution_count": 4,
     "metadata": {},
     "output_type": "execute_result"
    }
   ],
   "source": [
    "#To find the statistics of the dataset\n",
    "climate.describe()"
   ]
  },
  {
   "cell_type": "code",
   "execution_count": 5,
   "metadata": {
    "colab": {
     "base_uri": "https://localhost:8080/"
    },
    "id": "X6Gs7UOkiAiz",
    "outputId": "4a497d65-38a2-49eb-8af3-ff2687370984"
   },
   "outputs": [
    {
     "name": "stdout",
     "output_type": "stream",
     "text": [
      "<class 'pandas.core.frame.DataFrame'>\n",
      "RangeIndex: 59 entries, 0 to 58\n",
      "Data columns (total 2 columns):\n",
      " #   Column    Non-Null Count  Dtype         \n",
      "---  ------    --------------  -----         \n",
      " 0   Date      59 non-null     datetime64[ns]\n",
      " 1   Temp_Avg  59 non-null     float64       \n",
      "dtypes: datetime64[ns](1), float64(1)\n",
      "memory usage: 1.0 KB\n"
     ]
    }
   ],
   "source": [
    "#To find whether there are any existing null values or not\n",
    "climate.info()"
   ]
  },
  {
   "cell_type": "code",
   "execution_count": 6,
   "metadata": {
    "colab": {
     "base_uri": "https://localhost:8080/",
     "height": 53
    },
    "id": "eCTURWRaiAxf",
    "outputId": "c30ba738-b977-471c-d2b4-f9a4bcf38c05"
   },
   "outputs": [
    {
     "data": {
      "text/html": [
       "<div>\n",
       "<style scoped>\n",
       "    .dataframe tbody tr th:only-of-type {\n",
       "        vertical-align: middle;\n",
       "    }\n",
       "\n",
       "    .dataframe tbody tr th {\n",
       "        vertical-align: top;\n",
       "    }\n",
       "\n",
       "    .dataframe thead th {\n",
       "        text-align: right;\n",
       "    }\n",
       "</style>\n",
       "<table border=\"1\" class=\"dataframe\">\n",
       "  <thead>\n",
       "    <tr style=\"text-align: right;\">\n",
       "      <th></th>\n",
       "      <th>Date</th>\n",
       "      <th>Temp_Avg</th>\n",
       "    </tr>\n",
       "  </thead>\n",
       "  <tbody>\n",
       "  </tbody>\n",
       "</table>\n",
       "</div>"
      ],
      "text/plain": [
       "Empty DataFrame\n",
       "Columns: [Date, Temp_Avg]\n",
       "Index: []"
      ]
     },
     "execution_count": 6,
     "metadata": {},
     "output_type": "execute_result"
    }
   ],
   "source": [
    "#Count of duplicated rows\n",
    "climate[climate.duplicated()]"
   ]
  },
  {
   "cell_type": "code",
   "execution_count": 7,
   "metadata": {
    "colab": {
     "base_uri": "https://localhost:8080/",
     "height": 447
    },
    "id": "QU-g7JY8iA6o",
    "outputId": "4bb72c22-2da8-4b6f-be16-cc3734ad6104"
   },
   "outputs": [
    {
     "data": {
      "text/plain": [
       "<Axes: >"
      ]
     },
     "execution_count": 7,
     "metadata": {},
     "output_type": "execute_result"
    },
    {
     "data": {
      "image/png": "[encoded data removed]",
      "text/plain": [
       "<Figure size 640x480 with 1 Axes>"
      ]
     },
     "metadata": {},
     "output_type": "display_data"
    }
   ],
   "source": [
    "#Outlier Detection\n",
    "climate.plot(kind='box')"
   ]
  },
  {
   "cell_type": "code",
   "execution_count": 8,
   "metadata": {},
   "outputs": [],
   "source": [
    "#Change Date column as index\n",
    "climate['Date'] = pd.to_datetime(climate['Date'])\n",
    "climate.set_index('Date', inplace=True)"
   ]
  },
  {
   "cell_type": "code",
   "execution_count": 9,
   "metadata": {
    "colab": {
     "base_uri": "https://localhost:8080/",
     "height": 549
    },
    "id": "Orn25D8TiA-H",
    "outputId": "a8898a26-d96a-4b06-e135-12f6ef8f7e14"
   },
   "outputs": [
    {
     "data": {
      "text/plain": [
       "Text(0.5, 1.0, 'Time Series Plot - Average Temperature of Boston')"
      ]
     },
     "execution_count": 9,
     "metadata": {},
     "output_type": "execute_result"
    },
    {
     "data": {
      "image/png": "[encoded data removed]",
      "text/plain": [
       "<Figure size 2000x700 with 1 Axes>"
      ]
     },
     "metadata": {},
     "output_type": "display_data"
    }
   ],
   "source": [
    "#Time Plot of 'Temp_Avg'\n",
    "fig= plt.figure(figsize=(20,7))\n",
    "climate[\"Temp_Avg\"].plot()\n",
    "plt.ylabel('Average Temperature')\n",
    "plt.title('Time Series Plot - Average Temperature of Boston')"
   ]
  },
  {
   "cell_type": "markdown",
   "metadata": {
    "id": "7CeftVvlggcR"
   },
   "source": [
    "# Time series decomposition plot\n"
   ]
  },
  {
   "cell_type": "code",
   "execution_count": 10,
   "metadata": {
    "colab": {
     "base_uri": "https://localhost:8080/",
     "height": 487
    },
    "id": "VhVFocmjggcS",
    "outputId": "b8246d8e-07cc-425b-a368-a12de5d33bf8"
   },
   "outputs": [
    {
     "data": {
      "text/plain": [
       "<Figure size 4000x2000 with 0 Axes>"
      ]
     },
     "metadata": {},
     "output_type": "display_data"
    },
    {
     "data": {
      "image/png": "[encoded data removed]",
      "text/plain": [
       "<Figure size 640x480 with 4 Axes>"
      ]
     },
     "metadata": {},
     "output_type": "display_data"
    }
   ],
   "source": [
    "fig = plt.figure(figsize=(40, 20))\n",
    "\n",
    "decompose_ts_add = seasonal_decompose(climate[\"Temp_Avg\"], period=12)\n",
    "decompose_plot = decompose_ts_add.plot()\n",
    "\n",
    "# Rotate x-axis ticks by 90 degrees for all subplots\n",
    "for ax in decompose_plot.axes:\n",
    "    ax.set_xticklabels(ax.get_xticklabels(), rotation=90)\n",
    "\n",
    "# Increase space between each subplot\n",
    "plt.subplots_adjust(hspace=2)\n",
    "\n",
    "plt.show()"
   ]
  },
  {
   "cell_type": "markdown",
   "metadata": {
    "id": "1jHKXnwvggcS"
   },
   "source": [
    "# ACF plots and PACF plots\n"
   ]
  },
  {
   "cell_type": "code",
   "execution_count": 11,
   "metadata": {
    "colab": {
     "base_uri": "https://localhost:8080/",
     "height": 887
    },
    "id": "yqJ8MH0nggcT",
    "outputId": "ed473726-02b8-4913-a660-9266b9f94f6d",
    "scrolled": false
   },
   "outputs": [
    {
     "data": {
      "text/plain": [
       "<Figure size 4000x2000 with 0 Axes>"
      ]
     },
     "metadata": {},
     "output_type": "display_data"
    },
    {
     "data": {
      "image/png": "[encoded data removed]",
      "text/plain": [
       "<Figure size 640x480 with 1 Axes>"
      ]
     },
     "metadata": {},
     "output_type": "display_data"
    },
    {
     "data": {
      "image/png": "[encoded data removed]",
      "text/plain": [
       "<Figure size 640x480 with 1 Axes>"
      ]
     },
     "metadata": {},
     "output_type": "display_data"
    }
   ],
   "source": [
    "# Plotting autocorrelation and partial autocorrelation for the 'Temp_Avg' column\n",
    "import statsmodels.graphics.tsaplots as tsa_plots\n",
    "fig = plt.figure(figsize=(40, 20))\n",
    "tsa_plots.plot_acf(climate[\"Temp_Avg\"],lags=12)\n",
    "tsa_plots.plot_pacf(climate[\"Temp_Avg\"],lags=12)\n",
    "plt.show()"
   ]
  },
  {
   "cell_type": "markdown",
   "metadata": {
    "id": "VWN_jYjVeAH6"
   },
   "source": [
    "Splitting Data"
   ]
  },
  {
   "cell_type": "code",
   "execution_count": 12,
   "metadata": {
    "colab": {
     "base_uri": "https://localhost:8080/",
     "height": 423
    },
    "id": "FK3Fc4ZzmgNz",
    "outputId": "9b0f9de2-a285-4a60-e595-10b25fef5e69"
   },
   "outputs": [],
   "source": [
    "# Split the data into training and testing sets\n",
    "train_size = int(len(climate) * 0.8)  # 80% for training, 20% for testing\n",
    "Train, Test = climate[:train_size], climate[train_size:]"
   ]
  },
  {
   "cell_type": "markdown",
   "metadata": {},
   "source": [
    "# 1. Exponential Smoothing Methods"
   ]
  },
  {
   "cell_type": "markdown",
   "metadata": {
    "id": "icBT-aeRggcT"
   },
   "source": [
    "### Evaluation Metric MAPE"
   ]
  },
  {
   "cell_type": "code",
   "execution_count": 13,
   "metadata": {
    "id": "ZamxvultggcU"
   },
   "outputs": [],
   "source": [
    "# Function to calculate the Mean Absolute Percentage Error (MAPE) between predicted 'pred' and observed 'org' values\n",
    "def MAPE(pred,org):\n",
    "    temp = np.abs((pred-org)/org)*100\n",
    "    return np.mean(temp)"
   ]
  },
  {
   "cell_type": "code",
   "execution_count": 14,
   "metadata": {},
   "outputs": [
    {
     "data": {
      "text/html": [
       "<div>\n",
       "<style scoped>\n",
       "    .dataframe tbody tr th:only-of-type {\n",
       "        vertical-align: middle;\n",
       "    }\n",
       "\n",
       "    .dataframe tbody tr th {\n",
       "        vertical-align: top;\n",
       "    }\n",
       "\n",
       "    .dataframe thead th {\n",
       "        text-align: right;\n",
       "    }\n",
       "</style>\n",
       "<table border=\"1\" class=\"dataframe\">\n",
       "  <thead>\n",
       "    <tr style=\"text-align: right;\">\n",
       "      <th></th>\n",
       "      <th>Temp_Avg</th>\n",
       "    </tr>\n",
       "    <tr>\n",
       "      <th>Date</th>\n",
       "      <th></th>\n",
       "    </tr>\n",
       "  </thead>\n",
       "  <tbody>\n",
       "    <tr>\n",
       "      <th>2019-01-01</th>\n",
       "      <td>30.7</td>\n",
       "    </tr>\n",
       "    <tr>\n",
       "      <th>2019-02-01</th>\n",
       "      <td>33.5</td>\n",
       "    </tr>\n",
       "    <tr>\n",
       "      <th>2019-03-01</th>\n",
       "      <td>39.1</td>\n",
       "    </tr>\n",
       "    <tr>\n",
       "      <th>2019-04-01</th>\n",
       "      <td>51.7</td>\n",
       "    </tr>\n",
       "    <tr>\n",
       "      <th>2019-05-01</th>\n",
       "      <td>57.8</td>\n",
       "    </tr>\n",
       "    <tr>\n",
       "      <th>2019-06-01</th>\n",
       "      <td>68.2</td>\n",
       "    </tr>\n",
       "    <tr>\n",
       "      <th>2019-07-01</th>\n",
       "      <td>78.7</td>\n",
       "    </tr>\n",
       "    <tr>\n",
       "      <th>2019-08-01</th>\n",
       "      <td>74.1</td>\n",
       "    </tr>\n",
       "    <tr>\n",
       "      <th>2019-09-01</th>\n",
       "      <td>68.0</td>\n",
       "    </tr>\n",
       "    <tr>\n",
       "      <th>2019-10-01</th>\n",
       "      <td>57.4</td>\n",
       "    </tr>\n",
       "    <tr>\n",
       "      <th>2019-11-01</th>\n",
       "      <td>42.8</td>\n",
       "    </tr>\n",
       "    <tr>\n",
       "      <th>2019-12-01</th>\n",
       "      <td>37.2</td>\n",
       "    </tr>\n",
       "    <tr>\n",
       "      <th>2020-01-01</th>\n",
       "      <td>38.0</td>\n",
       "    </tr>\n",
       "    <tr>\n",
       "      <th>2020-02-01</th>\n",
       "      <td>37.8</td>\n",
       "    </tr>\n",
       "    <tr>\n",
       "      <th>2020-03-01</th>\n",
       "      <td>41.8</td>\n",
       "    </tr>\n",
       "    <tr>\n",
       "      <th>2020-04-01</th>\n",
       "      <td>44.6</td>\n",
       "    </tr>\n",
       "    <tr>\n",
       "      <th>2020-05-01</th>\n",
       "      <td>56.8</td>\n",
       "    </tr>\n",
       "    <tr>\n",
       "      <th>2020-06-01</th>\n",
       "      <td>69.2</td>\n",
       "    </tr>\n",
       "    <tr>\n",
       "      <th>2020-07-01</th>\n",
       "      <td>75.3</td>\n",
       "    </tr>\n",
       "    <tr>\n",
       "      <th>2020-08-01</th>\n",
       "      <td>74.1</td>\n",
       "    </tr>\n",
       "    <tr>\n",
       "      <th>2020-09-01</th>\n",
       "      <td>65.6</td>\n",
       "    </tr>\n",
       "    <tr>\n",
       "      <th>2020-10-01</th>\n",
       "      <td>54.7</td>\n",
       "    </tr>\n",
       "    <tr>\n",
       "      <th>2020-11-01</th>\n",
       "      <td>48.0</td>\n",
       "    </tr>\n",
       "    <tr>\n",
       "      <th>2020-12-01</th>\n",
       "      <td>36.0</td>\n",
       "    </tr>\n",
       "    <tr>\n",
       "      <th>2021-01-01</th>\n",
       "      <td>31.0</td>\n",
       "    </tr>\n",
       "    <tr>\n",
       "      <th>2021-02-01</th>\n",
       "      <td>30.8</td>\n",
       "    </tr>\n",
       "    <tr>\n",
       "      <th>2021-03-01</th>\n",
       "      <td>42.0</td>\n",
       "    </tr>\n",
       "    <tr>\n",
       "      <th>2021-04-01</th>\n",
       "      <td>50.8</td>\n",
       "    </tr>\n",
       "    <tr>\n",
       "      <th>2021-05-01</th>\n",
       "      <td>61.4</td>\n",
       "    </tr>\n",
       "    <tr>\n",
       "      <th>2021-06-01</th>\n",
       "      <td>74.4</td>\n",
       "    </tr>\n",
       "    <tr>\n",
       "      <th>2021-07-01</th>\n",
       "      <td>72.4</td>\n",
       "    </tr>\n",
       "    <tr>\n",
       "      <th>2021-08-01</th>\n",
       "      <td>76.9</td>\n",
       "    </tr>\n",
       "    <tr>\n",
       "      <th>2021-09-01</th>\n",
       "      <td>69.7</td>\n",
       "    </tr>\n",
       "    <tr>\n",
       "      <th>2021-10-01</th>\n",
       "      <td>59.9</td>\n",
       "    </tr>\n",
       "    <tr>\n",
       "      <th>2021-11-01</th>\n",
       "      <td>44.7</td>\n",
       "    </tr>\n",
       "    <tr>\n",
       "      <th>2021-12-01</th>\n",
       "      <td>39.2</td>\n",
       "    </tr>\n",
       "    <tr>\n",
       "      <th>2022-01-01</th>\n",
       "      <td>27.4</td>\n",
       "    </tr>\n",
       "    <tr>\n",
       "      <th>2022-02-01</th>\n",
       "      <td>33.1</td>\n",
       "    </tr>\n",
       "    <tr>\n",
       "      <th>2022-03-01</th>\n",
       "      <td>41.4</td>\n",
       "    </tr>\n",
       "    <tr>\n",
       "      <th>2022-04-01</th>\n",
       "      <td>50.1</td>\n",
       "    </tr>\n",
       "    <tr>\n",
       "      <th>2022-05-01</th>\n",
       "      <td>60.6</td>\n",
       "    </tr>\n",
       "    <tr>\n",
       "      <th>2022-06-01</th>\n",
       "      <td>67.9</td>\n",
       "    </tr>\n",
       "    <tr>\n",
       "      <th>2022-07-01</th>\n",
       "      <td>77.5</td>\n",
       "    </tr>\n",
       "    <tr>\n",
       "      <th>2022-08-01</th>\n",
       "      <td>76.7</td>\n",
       "    </tr>\n",
       "    <tr>\n",
       "      <th>2022-09-01</th>\n",
       "      <td>65.2</td>\n",
       "    </tr>\n",
       "    <tr>\n",
       "      <th>2022-10-01</th>\n",
       "      <td>56.6</td>\n",
       "    </tr>\n",
       "    <tr>\n",
       "      <th>2022-11-01</th>\n",
       "      <td>49.0</td>\n",
       "    </tr>\n",
       "  </tbody>\n",
       "</table>\n",
       "</div>"
      ],
      "text/plain": [
       "            Temp_Avg\n",
       "Date                \n",
       "2019-01-01      30.7\n",
       "2019-02-01      33.5\n",
       "2019-03-01      39.1\n",
       "2019-04-01      51.7\n",
       "2019-05-01      57.8\n",
       "2019-06-01      68.2\n",
       "2019-07-01      78.7\n",
       "2019-08-01      74.1\n",
       "2019-09-01      68.0\n",
       "2019-10-01      57.4\n",
       "2019-11-01      42.8\n",
       "2019-12-01      37.2\n",
       "2020-01-01      38.0\n",
       "2020-02-01      37.8\n",
       "2020-03-01      41.8\n",
       "2020-04-01      44.6\n",
       "2020-05-01      56.8\n",
       "2020-06-01      69.2\n",
       "2020-07-01      75.3\n",
       "2020-08-01      74.1\n",
       "2020-09-01      65.6\n",
       "2020-10-01      54.7\n",
       "2020-11-01      48.0\n",
       "2020-12-01      36.0\n",
       "2021-01-01      31.0\n",
       "2021-02-01      30.8\n",
       "2021-03-01      42.0\n",
       "2021-04-01      50.8\n",
       "2021-05-01      61.4\n",
       "2021-06-01      74.4\n",
       "2021-07-01      72.4\n",
       "2021-08-01      76.9\n",
       "2021-09-01      69.7\n",
       "2021-10-01      59.9\n",
       "2021-11-01      44.7\n",
       "2021-12-01      39.2\n",
       "2022-01-01      27.4\n",
       "2022-02-01      33.1\n",
       "2022-03-01      41.4\n",
       "2022-04-01      50.1\n",
       "2022-05-01      60.6\n",
       "2022-06-01      67.9\n",
       "2022-07-01      77.5\n",
       "2022-08-01      76.7\n",
       "2022-09-01      65.2\n",
       "2022-10-01      56.6\n",
       "2022-11-01      49.0"
      ]
     },
     "execution_count": 14,
     "metadata": {},
     "output_type": "execute_result"
    }
   ],
   "source": [
    "Train"
   ]
  },
  {
   "cell_type": "code",
   "execution_count": 15,
   "metadata": {},
   "outputs": [
    {
     "data": {
      "text/html": [
       "<div>\n",
       "<style scoped>\n",
       "    .dataframe tbody tr th:only-of-type {\n",
       "        vertical-align: middle;\n",
       "    }\n",
       "\n",
       "    .dataframe tbody tr th {\n",
       "        vertical-align: top;\n",
       "    }\n",
       "\n",
       "    .dataframe thead th {\n",
       "        text-align: right;\n",
       "    }\n",
       "</style>\n",
       "<table border=\"1\" class=\"dataframe\">\n",
       "  <thead>\n",
       "    <tr style=\"text-align: right;\">\n",
       "      <th></th>\n",
       "      <th>Temp_Avg</th>\n",
       "    </tr>\n",
       "    <tr>\n",
       "      <th>Date</th>\n",
       "      <th></th>\n",
       "    </tr>\n",
       "  </thead>\n",
       "  <tbody>\n",
       "    <tr>\n",
       "      <th>2022-12-01</th>\n",
       "      <td>37.3</td>\n",
       "    </tr>\n",
       "    <tr>\n",
       "      <th>2023-01-01</th>\n",
       "      <td>37.8</td>\n",
       "    </tr>\n",
       "    <tr>\n",
       "      <th>2023-02-01</th>\n",
       "      <td>34.9</td>\n",
       "    </tr>\n",
       "    <tr>\n",
       "      <th>2023-03-01</th>\n",
       "      <td>40.8</td>\n",
       "    </tr>\n",
       "    <tr>\n",
       "      <th>2023-04-01</th>\n",
       "      <td>50.8</td>\n",
       "    </tr>\n",
       "    <tr>\n",
       "      <th>2023-05-01</th>\n",
       "      <td>60.1</td>\n",
       "    </tr>\n",
       "    <tr>\n",
       "      <th>2023-06-01</th>\n",
       "      <td>65.9</td>\n",
       "    </tr>\n",
       "    <tr>\n",
       "      <th>2023-07-01</th>\n",
       "      <td>75.4</td>\n",
       "    </tr>\n",
       "    <tr>\n",
       "      <th>2023-08-01</th>\n",
       "      <td>71.8</td>\n",
       "    </tr>\n",
       "    <tr>\n",
       "      <th>2023-09-01</th>\n",
       "      <td>67.4</td>\n",
       "    </tr>\n",
       "    <tr>\n",
       "      <th>2023-10-01</th>\n",
       "      <td>59.2</td>\n",
       "    </tr>\n",
       "    <tr>\n",
       "      <th>2023-11-01</th>\n",
       "      <td>43.7</td>\n",
       "    </tr>\n",
       "  </tbody>\n",
       "</table>\n",
       "</div>"
      ],
      "text/plain": [
       "            Temp_Avg\n",
       "Date                \n",
       "2022-12-01      37.3\n",
       "2023-01-01      37.8\n",
       "2023-02-01      34.9\n",
       "2023-03-01      40.8\n",
       "2023-04-01      50.8\n",
       "2023-05-01      60.1\n",
       "2023-06-01      65.9\n",
       "2023-07-01      75.4\n",
       "2023-08-01      71.8\n",
       "2023-09-01      67.4\n",
       "2023-10-01      59.2\n",
       "2023-11-01      43.7"
      ]
     },
     "execution_count": 15,
     "metadata": {},
     "output_type": "execute_result"
    }
   ],
   "source": [
    "Test"
   ]
  },
  {
   "cell_type": "markdown",
   "metadata": {
    "id": "sTiL0HcuggcU"
   },
   "source": [
    "### Simple Exponential Method\n"
   ]
  },
  {
   "cell_type": "code",
   "execution_count": 16,
   "metadata": {
    "colab": {
     "base_uri": "https://localhost:8080/"
    },
    "id": "mgun8ureggcU",
    "outputId": "43c0e109-5a0c-49b0-e9d0-2324039791f1"
   },
   "outputs": [
    {
     "name": "stdout",
     "output_type": "stream",
     "text": [
      "(12,)\n",
      "(12,)\n"
     ]
    }
   ],
   "source": [
    "# Simple Exponential Smoothing (SES) model fitting and prediction\n",
    "ses_model = SimpleExpSmoothing(Train[\"Temp_Avg\"].astype('double')).fit(smoothing_level=1)\n",
    "pred_ses = np.array(ses_model.predict(start = Test.index[0],end = Test.index[-1]))\n",
    "print(pred_ses.shape)\n",
    "print(Test[\"Temp_Avg\"].shape)"
   ]
  },
  {
   "cell_type": "code",
   "execution_count": 17,
   "metadata": {
    "id": "i9Cy_v8Jf48p"
   },
   "outputs": [],
   "source": [
    "def MAPE(pred, org):\n",
    "    if pred.shape != org.shape:\n",
    "        # Handle shape mismatch or reshape arrays if needed\n",
    "        min_length = min(pred.shape[0], org.shape[0])\n",
    "        pred = pred[:min_length]\n",
    "        org = org[:min_length]\n",
    "\n",
    "    temp = np.abs((pred - org) / org) * 100\n",
    "    return np.mean(temp)"
   ]
  },
  {
   "cell_type": "code",
   "execution_count": 18,
   "metadata": {
    "colab": {
     "base_uri": "https://localhost:8080/"
    },
    "id": "vBQ2uLfZgPG5",
    "outputId": "c29aa45e-69c1-4b65-c23d-9833f38fa6d2"
   },
   "outputs": [
    {
     "name": "stdout",
     "output_type": "stream",
     "text": [
      "MAPE for SES Method: 24.38160545811606\n"
     ]
    }
   ],
   "source": [
    "#MAPE Value for SES Model\n",
    "mape_ses_model = MAPE(pred_ses, np.array(Test[\"Temp_Avg\"]))\n",
    "print(f\"MAPE for SES Method: {mape_ses_model}\")"
   ]
  },
  {
   "cell_type": "code",
   "execution_count": 19,
   "metadata": {},
   "outputs": [
    {
     "data": {
      "text/html": [
       "<table class=\"simpletable\">\n",
       "<caption>SimpleExpSmoothing Model Results</caption>\n",
       "<tr>\n",
       "  <th>Dep. Variable:</th>         <td>Temp_Avg</td>      <th>  No. Observations:  </th>        <td>47</td>       \n",
       "</tr>\n",
       "<tr>\n",
       "  <th>Model:</th>            <td>SimpleExpSmoothing</td> <th>  SSE                </th>     <td>3393.870</td>    \n",
       "</tr>\n",
       "<tr>\n",
       "  <th>Optimized:</th>               <td>True</td>        <th>  AIC                </th>      <td>205.140</td>    \n",
       "</tr>\n",
       "<tr>\n",
       "  <th>Trend:</th>                   <td>None</td>        <th>  BIC                </th>      <td>208.840</td>    \n",
       "</tr>\n",
       "<tr>\n",
       "  <th>Seasonal:</th>                <td>None</td>        <th>  AICC               </th>      <td>206.093</td>    \n",
       "</tr>\n",
       "<tr>\n",
       "  <th>Seasonal Periods:</th>        <td>None</td>        <th>  Date:              </th> <td>Sun, 10 Dec 2023</td>\n",
       "</tr>\n",
       "<tr>\n",
       "  <th>Box-Cox:</th>                 <td>False</td>       <th>  Time:              </th>     <td>19:15:15</td>    \n",
       "</tr>\n",
       "<tr>\n",
       "  <th>Box-Cox Coeff.:</th>          <td>None</td>        <th>                     </th>         <td> </td>       \n",
       "</tr>\n",
       "</table>\n",
       "<table class=\"simpletable\">\n",
       "<tr>\n",
       "         <td></td>                 <th>coeff</th>                <th>code</th>               <th>optimized</th>     \n",
       "</tr>\n",
       "<tr>\n",
       "  <th>smoothing_level</th> <td>           1.0000000</td> <td>               alpha</td> <td>               False</td>\n",
       "</tr>\n",
       "<tr>\n",
       "  <th>initial_level</th>   <td>           30.700000</td> <td>                 l.0</td> <td>                True</td>\n",
       "</tr>\n",
       "</table>"
      ],
      "text/plain": [
       "<class 'statsmodels.iolib.summary.Summary'>\n",
       "\"\"\"\n",
       "                       SimpleExpSmoothing Model Results                       \n",
       "==============================================================================\n",
       "Dep. Variable:               Temp_Avg   No. Observations:                   47\n",
       "Model:             SimpleExpSmoothing   SSE                           3393.870\n",
       "Optimized:                       True   AIC                            205.140\n",
       "Trend:                           None   BIC                            208.840\n",
       "Seasonal:                        None   AICC                           206.093\n",
       "Seasonal Periods:                None   Date:                 Sun, 10 Dec 2023\n",
       "Box-Cox:                        False   Time:                         19:15:15\n",
       "Box-Cox Coeff.:                  None                                         \n",
       "==============================================================================\n",
       "                       coeff                 code              optimized      \n",
       "------------------------------------------------------------------------------\n",
       "smoothing_level            1.0000000                alpha                False\n",
       "initial_level              30.700000                  l.0                 True\n",
       "------------------------------------------------------------------------------\n",
       "\"\"\""
      ]
     },
     "execution_count": 19,
     "metadata": {},
     "output_type": "execute_result"
    }
   ],
   "source": [
    "ses_model.summary()"
   ]
  },
  {
   "cell_type": "markdown",
   "metadata": {
    "id": "mKswQspdggcU"
   },
   "source": [
    "### Holt's method"
   ]
  },
  {
   "cell_type": "code",
   "execution_count": 20,
   "metadata": {
    "colab": {
     "base_uri": "https://localhost:8080/"
    },
    "id": "15P9p7b0ggcV",
    "outputId": "bbd50d67-8ef1-4513-a055-c92b76ce1cd3"
   },
   "outputs": [
    {
     "name": "stdout",
     "output_type": "stream",
     "text": [
      "MAPE for Holt method: 37.79485368527257\n"
     ]
    }
   ],
   "source": [
    "# Holt method\n",
    "from statsmodels.tsa.holtwinters import Holt\n",
    "\n",
    "# Update smoothing_slope to smoothing_trend\n",
    "holt_model = Holt(Train[\"Temp_Avg\"].astype('double')).fit(smoothing_level=0.8, smoothing_trend=0.2)\n",
    "\n",
    "# Predict using the model\n",
    "pred_holt = holt_model.predict(start=Test.index[0], end=Test.index[-1])\n",
    "\n",
    "# Calculate and print MAPE\n",
    "mape_holt_model = MAPE(pred_holt, Test[\"Temp_Avg\"])\n",
    "print(f\"MAPE for Holt method: {mape_holt_model}\")"
   ]
  },
  {
   "cell_type": "code",
   "execution_count": 21,
   "metadata": {},
   "outputs": [
    {
     "data": {
      "text/html": [
       "<table class=\"simpletable\">\n",
       "<caption>Holt Model Results</caption>\n",
       "<tr>\n",
       "  <th>Dep. Variable:</th>    <td>Temp_Avg</td> <th>  No. Observations:  </th>        <td>47</td>       \n",
       "</tr>\n",
       "<tr>\n",
       "  <th>Model:</th>              <td>Holt</td>   <th>  SSE                </th>     <td>5145.976</td>    \n",
       "</tr>\n",
       "<tr>\n",
       "  <th>Optimized:</th>          <td>True</td>   <th>  AIC                </th>      <td>228.704</td>    \n",
       "</tr>\n",
       "<tr>\n",
       "  <th>Trend:</th>            <td>Additive</td> <th>  BIC                </th>      <td>236.104</td>    \n",
       "</tr>\n",
       "<tr>\n",
       "  <th>Seasonal:</th>           <td>None</td>   <th>  AICC               </th>      <td>230.804</td>    \n",
       "</tr>\n",
       "<tr>\n",
       "  <th>Seasonal Periods:</th>   <td>None</td>   <th>  Date:              </th> <td>Sun, 10 Dec 2023</td>\n",
       "</tr>\n",
       "<tr>\n",
       "  <th>Box-Cox:</th>            <td>False</td>  <th>  Time:              </th>     <td>19:15:15</td>    \n",
       "</tr>\n",
       "<tr>\n",
       "  <th>Box-Cox Coeff.:</th>     <td>None</td>   <th>                     </th>         <td> </td>       \n",
       "</tr>\n",
       "</table>\n",
       "<table class=\"simpletable\">\n",
       "<tr>\n",
       "         <td></td>                 <th>coeff</th>                <th>code</th>               <th>optimized</th>     \n",
       "</tr>\n",
       "<tr>\n",
       "  <th>smoothing_level</th> <td>           0.8000000</td> <td>               alpha</td> <td>               False</td>\n",
       "</tr>\n",
       "<tr>\n",
       "  <th>smoothing_trend</th> <td>           0.2000000</td> <td>                beta</td> <td>               False</td>\n",
       "</tr>\n",
       "<tr>\n",
       "  <th>initial_level</th>   <td>           26.246169</td> <td>                 l.0</td> <td>                True</td>\n",
       "</tr>\n",
       "<tr>\n",
       "  <th>initial_trend</th>   <td>           4.3060436</td> <td>                 b.0</td> <td>                True</td>\n",
       "</tr>\n",
       "</table>"
      ],
      "text/plain": [
       "<class 'statsmodels.iolib.summary.Summary'>\n",
       "\"\"\"\n",
       "                              Holt Model Results                              \n",
       "==============================================================================\n",
       "Dep. Variable:               Temp_Avg   No. Observations:                   47\n",
       "Model:                           Holt   SSE                           5145.976\n",
       "Optimized:                       True   AIC                            228.704\n",
       "Trend:                       Additive   BIC                            236.104\n",
       "Seasonal:                        None   AICC                           230.804\n",
       "Seasonal Periods:                None   Date:                 Sun, 10 Dec 2023\n",
       "Box-Cox:                        False   Time:                         19:15:15\n",
       "Box-Cox Coeff.:                  None                                         \n",
       "==============================================================================\n",
       "                       coeff                 code              optimized      \n",
       "------------------------------------------------------------------------------\n",
       "smoothing_level            0.8000000                alpha                False\n",
       "smoothing_trend            0.2000000                 beta                False\n",
       "initial_level              26.246169                  l.0                 True\n",
       "initial_trend              4.3060436                  b.0                 True\n",
       "------------------------------------------------------------------------------\n",
       "\"\"\""
      ]
     },
     "execution_count": 21,
     "metadata": {},
     "output_type": "execute_result"
    }
   ],
   "source": [
    "holt_model.summary()"
   ]
  },
  {
   "cell_type": "markdown",
   "metadata": {
    "id": "W1xbH2YPggcV"
   },
   "source": [
    "### Holt-Winter's exponential smoothing with additive seasonality and additive trend\n"
   ]
  },
  {
   "cell_type": "code",
   "execution_count": 22,
   "metadata": {
    "colab": {
     "base_uri": "https://localhost:8080/"
    },
    "id": "CZ4w8xH7ggcV",
    "outputId": "5529caf1-6d3f-404f-ec40-dad0de003ac3"
   },
   "outputs": [
    {
     "data": {
      "text/plain": [
       "3.848487986520052"
      ]
     },
     "execution_count": 22,
     "metadata": {},
     "output_type": "execute_result"
    }
   ],
   "source": [
    "# Fitting a Holt-Winters Exponential Smoothing model with additive trend and additive seasonality to the training data\n",
    "hwe_model_add_add = ExponentialSmoothing(Train[\"Temp_Avg\"].astype('double'),seasonal=\"add\",trend=\"add\",seasonal_periods=12).fit() #add the trend to the model\n",
    "pred_hwe_add_add = hwe_model_add_add.predict(start = Test.index[0],end = Test.index[-1])\n",
    "mape_hwe_model_add_add = MAPE(pred_hwe_add_add,Test[\"Temp_Avg\"])\n",
    "mape_hwe_model_add_add"
   ]
  },
  {
   "cell_type": "code",
   "execution_count": 23,
   "metadata": {
    "colab": {
     "base_uri": "https://localhost:8080/",
     "height": 582
    },
    "id": "ahcsjgM6ggcV",
    "outputId": "f92f3c02-0e0d-432b-9c89-5acfc93128a9"
   },
   "outputs": [
    {
     "data": {
      "text/html": [
       "<table class=\"simpletable\">\n",
       "<caption>ExponentialSmoothing Model Results</caption>\n",
       "<tr>\n",
       "  <th>Dep. Variable:</th>          <td>Temp_Avg</td>       <th>  No. Observations:  </th>        <td>47</td>       \n",
       "</tr>\n",
       "<tr>\n",
       "  <th>Model:</th>            <td>ExponentialSmoothing</td> <th>  SSE                </th>      <td>249.001</td>    \n",
       "</tr>\n",
       "<tr>\n",
       "  <th>Optimized:</th>                <td>True</td>         <th>  AIC                </th>      <td>110.364</td>    \n",
       "</tr>\n",
       "<tr>\n",
       "  <th>Trend:</th>                  <td>Additive</td>       <th>  BIC                </th>      <td>139.966</td>    \n",
       "</tr>\n",
       "<tr>\n",
       "  <th>Seasonal:</th>               <td>Additive</td>       <th>  AICC               </th>      <td>134.792</td>    \n",
       "</tr>\n",
       "<tr>\n",
       "  <th>Seasonal Periods:</th>          <td>12</td>          <th>  Date:              </th> <td>Sun, 10 Dec 2023</td>\n",
       "</tr>\n",
       "<tr>\n",
       "  <th>Box-Cox:</th>                  <td>False</td>        <th>  Time:              </th>     <td>19:15:16</td>    \n",
       "</tr>\n",
       "<tr>\n",
       "  <th>Box-Cox Coeff.:</th>           <td>None</td>         <th>                     </th>         <td> </td>       \n",
       "</tr>\n",
       "</table>\n",
       "<table class=\"simpletable\">\n",
       "<tr>\n",
       "           <td></td>                  <th>coeff</th>                <th>code</th>               <th>optimized</th>     \n",
       "</tr>\n",
       "<tr>\n",
       "  <th>smoothing_level</th>    <td>          1.4901e-08</td> <td>               alpha</td> <td>                True</td>\n",
       "</tr>\n",
       "<tr>\n",
       "  <th>smoothing_trend</th>    <td>          7.1086e-09</td> <td>                beta</td> <td>                True</td>\n",
       "</tr>\n",
       "<tr>\n",
       "  <th>smoothing_seasonal</th> <td>          1.3945e-10</td> <td>               gamma</td> <td>                True</td>\n",
       "</tr>\n",
       "<tr>\n",
       "  <th>initial_level</th>      <td>           53.364144</td> <td>                 l.0</td> <td>                True</td>\n",
       "</tr>\n",
       "<tr>\n",
       "  <th>initial_trend</th>      <td>           0.0165216</td> <td>                 b.0</td> <td>                True</td>\n",
       "</tr>\n",
       "<tr>\n",
       "  <th>initial_seasons.0</th>  <td>          -21.903056</td> <td>                 s.0</td> <td>                True</td>\n",
       "</tr>\n",
       "<tr>\n",
       "  <th>initial_seasons.1</th>  <td>          -19.894645</td> <td>                 s.1</td> <td>                True</td>\n",
       "</tr>\n",
       "<tr>\n",
       "  <th>initial_seasons.2</th>  <td>          -12.636094</td> <td>                 s.2</td> <td>                True</td>\n",
       "</tr>\n",
       "<tr>\n",
       "  <th>initial_seasons.3</th>  <td>          -4.4276669</td> <td>                 s.3</td> <td>                True</td>\n",
       "</tr>\n",
       "<tr>\n",
       "  <th>initial_seasons.4</th>  <td>           5.4058842</td> <td>                 s.4</td> <td>                True</td>\n",
       "</tr>\n",
       "<tr>\n",
       "  <th>initial_seasons.5</th>  <td>           16.164361</td> <td>                 s.5</td> <td>                True</td>\n",
       "</tr>\n",
       "<tr>\n",
       "  <th>initial_seasons.6</th>  <td>           22.197847</td> <td>                 s.6</td> <td>                True</td>\n",
       "</tr>\n",
       "<tr>\n",
       "  <th>initial_seasons.7</th>  <td>           21.656280</td> <td>                 s.7</td> <td>                True</td>\n",
       "</tr>\n",
       "<tr>\n",
       "  <th>initial_seasons.8</th>  <td>           13.314816</td> <td>                 s.8</td> <td>                True</td>\n",
       "</tr>\n",
       "<tr>\n",
       "  <th>initial_seasons.9</th>  <td>           3.3232254</td> <td>                 s.9</td> <td>                True</td>\n",
       "</tr>\n",
       "<tr>\n",
       "  <th>initial_seasons.10</th> <td>          -7.7184079</td> <td>                s.10</td> <td>                True</td>\n",
       "</tr>\n",
       "<tr>\n",
       "  <th>initial_seasons.11</th> <td>          -16.293882</td> <td>                s.11</td> <td>                True</td>\n",
       "</tr>\n",
       "</table>"
      ],
      "text/plain": [
       "<class 'statsmodels.iolib.summary.Summary'>\n",
       "\"\"\"\n",
       "                       ExponentialSmoothing Model Results                       \n",
       "================================================================================\n",
       "Dep. Variable:                 Temp_Avg   No. Observations:                   47\n",
       "Model:             ExponentialSmoothing   SSE                            249.001\n",
       "Optimized:                         True   AIC                            110.364\n",
       "Trend:                         Additive   BIC                            139.966\n",
       "Seasonal:                      Additive   AICC                           134.792\n",
       "Seasonal Periods:                    12   Date:                 Sun, 10 Dec 2023\n",
       "Box-Cox:                          False   Time:                         19:15:16\n",
       "Box-Cox Coeff.:                    None                                         \n",
       "=================================================================================\n",
       "                          coeff                 code              optimized      \n",
       "---------------------------------------------------------------------------------\n",
       "smoothing_level              1.4901e-08                alpha                 True\n",
       "smoothing_trend              7.1086e-09                 beta                 True\n",
       "smoothing_seasonal           1.3945e-10                gamma                 True\n",
       "initial_level                 53.364144                  l.0                 True\n",
       "initial_trend                 0.0165216                  b.0                 True\n",
       "initial_seasons.0            -21.903056                  s.0                 True\n",
       "initial_seasons.1            -19.894645                  s.1                 True\n",
       "initial_seasons.2            -12.636094                  s.2                 True\n",
       "initial_seasons.3            -4.4276669                  s.3                 True\n",
       "initial_seasons.4             5.4058842                  s.4                 True\n",
       "initial_seasons.5             16.164361                  s.5                 True\n",
       "initial_seasons.6             22.197847                  s.6                 True\n",
       "initial_seasons.7             21.656280                  s.7                 True\n",
       "initial_seasons.8             13.314816                  s.8                 True\n",
       "initial_seasons.9             3.3232254                  s.9                 True\n",
       "initial_seasons.10           -7.7184079                 s.10                 True\n",
       "initial_seasons.11           -16.293882                 s.11                 True\n",
       "---------------------------------------------------------------------------------\n",
       "\"\"\""
      ]
     },
     "execution_count": 23,
     "metadata": {},
     "output_type": "execute_result"
    }
   ],
   "source": [
    "hwe_model_add_add.summary()"
   ]
  },
  {
   "cell_type": "markdown",
   "metadata": {
    "id": "eFJoJE9vggcW"
   },
   "source": [
    "### Holt-Winter's exponential smoothing with multiplicative seasonality and additive trend"
   ]
  },
  {
   "cell_type": "code",
   "execution_count": 24,
   "metadata": {
    "colab": {
     "base_uri": "https://localhost:8080/"
    },
    "id": "8TWjHlPQggcW",
    "outputId": "a7aa96ff-f2dc-424b-b9d6-7947f5e540a7"
   },
   "outputs": [
    {
     "data": {
      "text/plain": [
       "3.990810805084788"
      ]
     },
     "execution_count": 24,
     "metadata": {},
     "output_type": "execute_result"
    }
   ],
   "source": [
    "# Fitting a Holt-Winters Exponential Smoothing model with multiplicative seasonality and additive trend to the training data\n",
    "hwe_model_mul_add = ExponentialSmoothing(Train[\"Temp_Avg\"],seasonal=\"mul\",trend=\"add\",seasonal_periods=12).fit()\n",
    "pred_hwe_mul_add = hwe_model_mul_add.predict(start = Test.index[0],end = Test.index[-1])\n",
    "mape_hwe_model_mul_add=MAPE(pred_hwe_mul_add,Test[\"Temp_Avg\"])\n",
    "mape_hwe_model_mul_add"
   ]
  },
  {
   "cell_type": "code",
   "execution_count": 25,
   "metadata": {},
   "outputs": [
    {
     "data": {
      "text/html": [
       "<table class=\"simpletable\">\n",
       "<caption>ExponentialSmoothing Model Results</caption>\n",
       "<tr>\n",
       "  <th>Dep. Variable:</th>          <td>Temp_Avg</td>       <th>  No. Observations:  </th>        <td>47</td>       \n",
       "</tr>\n",
       "<tr>\n",
       "  <th>Model:</th>            <td>ExponentialSmoothing</td> <th>  SSE                </th>      <td>247.532</td>    \n",
       "</tr>\n",
       "<tr>\n",
       "  <th>Optimized:</th>                <td>True</td>         <th>  AIC                </th>      <td>110.086</td>    \n",
       "</tr>\n",
       "<tr>\n",
       "  <th>Trend:</th>                  <td>Additive</td>       <th>  BIC                </th>      <td>139.688</td>    \n",
       "</tr>\n",
       "<tr>\n",
       "  <th>Seasonal:</th>            <td>Multiplicative</td>    <th>  AICC               </th>      <td>134.514</td>    \n",
       "</tr>\n",
       "<tr>\n",
       "  <th>Seasonal Periods:</th>          <td>12</td>          <th>  Date:              </th> <td>Sun, 10 Dec 2023</td>\n",
       "</tr>\n",
       "<tr>\n",
       "  <th>Box-Cox:</th>                  <td>False</td>        <th>  Time:              </th>     <td>19:15:16</td>    \n",
       "</tr>\n",
       "<tr>\n",
       "  <th>Box-Cox Coeff.:</th>           <td>None</td>         <th>                     </th>         <td> </td>       \n",
       "</tr>\n",
       "</table>\n",
       "<table class=\"simpletable\">\n",
       "<tr>\n",
       "           <td></td>                  <th>coeff</th>                <th>code</th>               <th>optimized</th>     \n",
       "</tr>\n",
       "<tr>\n",
       "  <th>smoothing_level</th>    <td>          1.4901e-08</td> <td>               alpha</td> <td>                True</td>\n",
       "</tr>\n",
       "<tr>\n",
       "  <th>smoothing_trend</th>    <td>          1.4148e-08</td> <td>                beta</td> <td>                True</td>\n",
       "</tr>\n",
       "<tr>\n",
       "  <th>smoothing_seasonal</th> <td>           3.976e-09</td> <td>               gamma</td> <td>                True</td>\n",
       "</tr>\n",
       "<tr>\n",
       "  <th>initial_level</th>      <td>           51.153926</td> <td>                 l.0</td> <td>                True</td>\n",
       "</tr>\n",
       "<tr>\n",
       "  <th>initial_trend</th>      <td>           0.0193590</td> <td>                 b.0</td> <td>                True</td>\n",
       "</tr>\n",
       "<tr>\n",
       "  <th>initial_seasons.0</th>  <td>           0.6165300</td> <td>                 s.0</td> <td>                True</td>\n",
       "</tr>\n",
       "<tr>\n",
       "  <th>initial_seasons.1</th>  <td>           0.6556792</td> <td>                 s.1</td> <td>                True</td>\n",
       "</tr>\n",
       "<tr>\n",
       "  <th>initial_seasons.2</th>  <td>           0.7966945</td> <td>                 s.2</td> <td>                True</td>\n",
       "</tr>\n",
       "<tr>\n",
       "  <th>initial_seasons.3</th>  <td>           0.9557898</td> <td>                 s.3</td> <td>                True</td>\n",
       "</tr>\n",
       "<tr>\n",
       "  <th>initial_seasons.4</th>  <td>           1.1464481</td> <td>                 s.4</td> <td>                True</td>\n",
       "</tr>\n",
       "<tr>\n",
       "  <th>initial_seasons.5</th>  <td>           1.3546610</td> <td>                 s.5</td> <td>                True</td>\n",
       "</tr>\n",
       "<tr>\n",
       "  <th>initial_seasons.6</th>  <td>           1.4711934</td> <td>                 s.6</td> <td>                True</td>\n",
       "</tr>\n",
       "<tr>\n",
       "  <th>initial_seasons.7</th>  <td>           1.4606678</td> <td>                 s.7</td> <td>                True</td>\n",
       "</tr>\n",
       "<tr>\n",
       "  <th>initial_seasons.8</th>  <td>           1.2988642</td> <td>                 s.8</td> <td>                True</td>\n",
       "</tr>\n",
       "<tr>\n",
       "  <th>initial_seasons.9</th>  <td>           1.1055048</td> <td>                 s.9</td> <td>                True</td>\n",
       "</tr>\n",
       "<tr>\n",
       "  <th>initial_seasons.10</th> <td>           0.8920445</td> <td>                s.10</td> <td>                True</td>\n",
       "</tr>\n",
       "<tr>\n",
       "  <th>initial_seasons.11</th> <td>           0.7258873</td> <td>                s.11</td> <td>                True</td>\n",
       "</tr>\n",
       "</table>"
      ],
      "text/plain": [
       "<class 'statsmodels.iolib.summary.Summary'>\n",
       "\"\"\"\n",
       "                       ExponentialSmoothing Model Results                       \n",
       "================================================================================\n",
       "Dep. Variable:                 Temp_Avg   No. Observations:                   47\n",
       "Model:             ExponentialSmoothing   SSE                            247.532\n",
       "Optimized:                         True   AIC                            110.086\n",
       "Trend:                         Additive   BIC                            139.688\n",
       "Seasonal:                Multiplicative   AICC                           134.514\n",
       "Seasonal Periods:                    12   Date:                 Sun, 10 Dec 2023\n",
       "Box-Cox:                          False   Time:                         19:15:16\n",
       "Box-Cox Coeff.:                    None                                         \n",
       "=================================================================================\n",
       "                          coeff                 code              optimized      \n",
       "---------------------------------------------------------------------------------\n",
       "smoothing_level              1.4901e-08                alpha                 True\n",
       "smoothing_trend              1.4148e-08                 beta                 True\n",
       "smoothing_seasonal            3.976e-09                gamma                 True\n",
       "initial_level                 51.153926                  l.0                 True\n",
       "initial_trend                 0.0193590                  b.0                 True\n",
       "initial_seasons.0             0.6165300                  s.0                 True\n",
       "initial_seasons.1             0.6556792                  s.1                 True\n",
       "initial_seasons.2             0.7966945                  s.2                 True\n",
       "initial_seasons.3             0.9557898                  s.3                 True\n",
       "initial_seasons.4             1.1464481                  s.4                 True\n",
       "initial_seasons.5             1.3546610                  s.5                 True\n",
       "initial_seasons.6             1.4711934                  s.6                 True\n",
       "initial_seasons.7             1.4606678                  s.7                 True\n",
       "initial_seasons.8             1.2988642                  s.8                 True\n",
       "initial_seasons.9             1.1055048                  s.9                 True\n",
       "initial_seasons.10            0.8920445                 s.10                 True\n",
       "initial_seasons.11            0.7258873                 s.11                 True\n",
       "---------------------------------------------------------------------------------\n",
       "\"\"\""
      ]
     },
     "execution_count": 25,
     "metadata": {},
     "output_type": "execute_result"
    }
   ],
   "source": [
    "hwe_model_mul_add.summary()"
   ]
  },
  {
   "cell_type": "markdown",
   "metadata": {},
   "source": [
    "Comparison of Results"
   ]
  },
  {
   "cell_type": "code",
   "execution_count": 26,
   "metadata": {},
   "outputs": [
    {
     "data": {
      "text/html": [
       "<div>\n",
       "<style scoped>\n",
       "    .dataframe tbody tr th:only-of-type {\n",
       "        vertical-align: middle;\n",
       "    }\n",
       "\n",
       "    .dataframe tbody tr th {\n",
       "        vertical-align: top;\n",
       "    }\n",
       "\n",
       "    .dataframe thead th {\n",
       "        text-align: right;\n",
       "    }\n",
       "</style>\n",
       "<table border=\"1\" class=\"dataframe\">\n",
       "  <thead>\n",
       "    <tr style=\"text-align: right;\">\n",
       "      <th></th>\n",
       "      <th>MODEL</th>\n",
       "      <th>MAPE_Values</th>\n",
       "    </tr>\n",
       "  </thead>\n",
       "  <tbody>\n",
       "    <tr>\n",
       "      <th>2</th>\n",
       "      <td>hwe_model_add_add</td>\n",
       "      <td>3.848488</td>\n",
       "    </tr>\n",
       "    <tr>\n",
       "      <th>3</th>\n",
       "      <td>hwe_model_mul_add</td>\n",
       "      <td>3.990811</td>\n",
       "    </tr>\n",
       "    <tr>\n",
       "      <th>0</th>\n",
       "      <td>ses_model</td>\n",
       "      <td>24.381605</td>\n",
       "    </tr>\n",
       "    <tr>\n",
       "      <th>1</th>\n",
       "      <td>holt_model</td>\n",
       "      <td>37.794854</td>\n",
       "    </tr>\n",
       "  </tbody>\n",
       "</table>\n",
       "</div>"
      ],
      "text/plain": [
       "               MODEL  MAPE_Values\n",
       "2  hwe_model_add_add     3.848488\n",
       "3  hwe_model_mul_add     3.990811\n",
       "0          ses_model    24.381605\n",
       "1         holt_model    37.794854"
      ]
     },
     "execution_count": 26,
     "metadata": {},
     "output_type": "execute_result"
    }
   ],
   "source": [
    "#Compare the results \n",
    "data = {\"MODEL\":pd.Series([\"ses_model\",\"holt_model\",\"hwe_model_add_add\",\"hwe_model_mul_add\"]),\"MAPE_Values\":pd.Series([mape_ses_model,mape_holt_model,mape_hwe_model_add_add,mape_hwe_model_mul_add])}\n",
    "table_rmse=pd.DataFrame(data)\n",
    "table_rmse.sort_values(['MAPE_Values'])"
   ]
  },
  {
   "cell_type": "markdown",
   "metadata": {},
   "source": [
    "## Based on the least MAPE value: Final Model (Holts winter exponential smoothing with additive seasonality and additive trend) Plot on Test Data"
   ]
  },
  {
   "cell_type": "code",
   "execution_count": 27,
   "metadata": {},
   "outputs": [],
   "source": [
    "# Fitting a Holt-Winters Exponential Smoothing model with additive trend and additive seasonality to the training data\n",
    "hwe_model_add_add = ExponentialSmoothing(Train[\"Temp_Avg\"].astype('double'),seasonal=\"add\",trend=\"add\",seasonal_periods=12).fit()"
   ]
  },
  {
   "cell_type": "code",
   "execution_count": 28,
   "metadata": {},
   "outputs": [],
   "source": [
    "# Generating forecast values using the trained Holt-Winters Exponential Smoothing model with additive trend and additive seasonality\n",
    "forecast = hwe_model_add_add.predict(start = Test.index[0],end = Test.index[-1])"
   ]
  },
  {
   "cell_type": "code",
   "execution_count": 29,
   "metadata": {
    "id": "wCT_l1XpggcX"
   },
   "outputs": [
    {
     "data": {
      "image/png": "[encoded data removed]",
      "text/plain": [
       "<Figure size 640x480 with 1 Axes>"
      ]
     },
     "metadata": {},
     "output_type": "display_data"
    }
   ],
   "source": [
    "# Plot the actual vs predicted values of the Test data\n",
    "import matplotlib.pyplot as plt\n",
    "\n",
    "plt.plot(Test['Temp_Avg'], label='Actual')\n",
    "plt.plot(forecast, color='red', label='Predicted')\n",
    "plt.title(f\"Holt-Winter's exponential smoothing (additive seasonality & additive trend) \\n Model on Test Data\")\n",
    "plt.legend()\n",
    "plt.show()"
   ]
  },
  {
   "cell_type": "markdown",
   "metadata": {
    "id": "tbWnvrcgggcW"
   },
   "source": [
    "## Based on the least MAPE value: Final Model (Holts winter exponential smoothing with additive seasonality and additive trend) for the entire dataset"
   ]
  },
  {
   "cell_type": "code",
   "execution_count": 30,
   "metadata": {
    "id": "Bh3q5LZRggcW"
   },
   "outputs": [],
   "source": [
    "# Fitting a Holt-Winters Exponential Smoothing model with additive trend and additive seasonality to the entire 'climate' dataset\n",
    "hwe_model_add_add = ExponentialSmoothing(climate[\"Temp_Avg\"].astype('double'),seasonal=\"add\",trend=\"add\",seasonal_periods=12).fit()"
   ]
  },
  {
   "cell_type": "code",
   "execution_count": 31,
   "metadata": {
    "colab": {
     "base_uri": "https://localhost:8080/"
    },
    "id": "RxqBfteyggcW",
    "outputId": "7dcffa6d-73d9-41db-c74a-fa8f36f05aba"
   },
   "outputs": [
    {
     "data": {
      "text/plain": [
       "2023-12-01    37.706393\n",
       "2024-01-01    33.317877\n",
       "2024-02-01    34.357636\n",
       "2024-03-01    41.357827\n",
       "2024-04-01    49.937774\n",
       "2024-05-01    59.677741\n",
       "2024-06-01    69.457727\n",
       "2024-07-01    76.197705\n",
       "2024-08-01    75.057707\n",
       "2024-09-01    67.517795\n",
       "Freq: MS, dtype: float64"
      ]
     },
     "execution_count": 31,
     "metadata": {},
     "output_type": "execute_result"
    }
   ],
   "source": [
    "#Forecasting for next 10 time periods\n",
    "forecast = hwe_model_add_add.forecast(10)\n",
    "forecast"
   ]
  },
  {
   "cell_type": "markdown",
   "metadata": {},
   "source": [
    "# 2. Data-Driven Time Series Forecasting Models"
   ]
  },
  {
   "cell_type": "code",
   "execution_count": 32,
   "metadata": {},
   "outputs": [],
   "source": [
    "#Read the Dataset\n",
    "climate = pd.read_excel(\"C:/Users/sujik/OneDrive/Documents/MS - Data Science/Semester 3 (Fall_23)/MTH 522 - Advanced Mathematical Stats/Project 3/Boston_climate.xlsx\")"
   ]
  },
  {
   "cell_type": "code",
   "execution_count": 33,
   "metadata": {},
   "outputs": [],
   "source": [
    "# Extracting Day, weekday name, month name, year from the Date column\n",
    "climate[\"month\"] = climate.Date.dt.strftime(\"%b\")\n",
    "climate[\"year\"] = climate.Date.dt.strftime(\"%Y\")"
   ]
  },
  {
   "cell_type": "code",
   "execution_count": 34,
   "metadata": {},
   "outputs": [
    {
     "data": {
      "text/html": [
       "<div>\n",
       "<style scoped>\n",
       "    .dataframe tbody tr th:only-of-type {\n",
       "        vertical-align: middle;\n",
       "    }\n",
       "\n",
       "    .dataframe tbody tr th {\n",
       "        vertical-align: top;\n",
       "    }\n",
       "\n",
       "    .dataframe thead th {\n",
       "        text-align: right;\n",
       "    }\n",
       "</style>\n",
       "<table border=\"1\" class=\"dataframe\">\n",
       "  <thead>\n",
       "    <tr style=\"text-align: right;\">\n",
       "      <th></th>\n",
       "      <th>Date</th>\n",
       "      <th>Temp_Avg</th>\n",
       "      <th>month</th>\n",
       "      <th>year</th>\n",
       "    </tr>\n",
       "  </thead>\n",
       "  <tbody>\n",
       "    <tr>\n",
       "      <th>0</th>\n",
       "      <td>2019-01-01</td>\n",
       "      <td>30.7</td>\n",
       "      <td>Jan</td>\n",
       "      <td>2019</td>\n",
       "    </tr>\n",
       "    <tr>\n",
       "      <th>1</th>\n",
       "      <td>2019-02-01</td>\n",
       "      <td>33.5</td>\n",
       "      <td>Feb</td>\n",
       "      <td>2019</td>\n",
       "    </tr>\n",
       "    <tr>\n",
       "      <th>2</th>\n",
       "      <td>2019-03-01</td>\n",
       "      <td>39.1</td>\n",
       "      <td>Mar</td>\n",
       "      <td>2019</td>\n",
       "    </tr>\n",
       "    <tr>\n",
       "      <th>3</th>\n",
       "      <td>2019-04-01</td>\n",
       "      <td>51.7</td>\n",
       "      <td>Apr</td>\n",
       "      <td>2019</td>\n",
       "    </tr>\n",
       "    <tr>\n",
       "      <th>4</th>\n",
       "      <td>2019-05-01</td>\n",
       "      <td>57.8</td>\n",
       "      <td>May</td>\n",
       "      <td>2019</td>\n",
       "    </tr>\n",
       "  </tbody>\n",
       "</table>\n",
       "</div>"
      ],
      "text/plain": [
       "        Date  Temp_Avg month  year\n",
       "0 2019-01-01      30.7   Jan  2019\n",
       "1 2019-02-01      33.5   Feb  2019\n",
       "2 2019-03-01      39.1   Mar  2019\n",
       "3 2019-04-01      51.7   Apr  2019\n",
       "4 2019-05-01      57.8   May  2019"
      ]
     },
     "execution_count": 34,
     "metadata": {},
     "output_type": "execute_result"
    }
   ],
   "source": [
    "climate.head()"
   ]
  },
  {
   "cell_type": "code",
   "execution_count": 35,
   "metadata": {},
   "outputs": [],
   "source": [
    "#Preprocessing the \"climate\" DataFrame by extracting the first three characters from the \"month\" column, creating dummy variables for months, adding time-related features, and calculating the natural logarithm of the \"Temp_Avg\" column\n",
    "month =['Jan','Feb','Mar','Apr','May','Jun','Jul','Aug','Sep','Oct','Nov','Dec'] \n",
    "\n",
    "for i in range(59):\n",
    "    p = climate[\"month\"][i]\n",
    "    climate['month'][i]= p[0:3]\n",
    "    \n",
    "month_dummies = pd.DataFrame(pd.get_dummies(climate['month']))\n",
    "climate1 = pd.concat([climate,month_dummies],axis = 1)\n",
    "\n",
    "climate1[\"t\"] = np.arange(1,60)\n",
    "\n",
    "climate1[\"t_squared\"] = climate1[\"t\"]*climate1[\"t\"]\n",
    "climate1.columns\n",
    "climate1[\"log_T_Avg\"] = np.log(climate1[\"Temp_Avg\"])"
   ]
  },
  {
   "cell_type": "code",
   "execution_count": 36,
   "metadata": {},
   "outputs": [
    {
     "data": {
      "text/html": [
       "<div>\n",
       "<style scoped>\n",
       "    .dataframe tbody tr th:only-of-type {\n",
       "        vertical-align: middle;\n",
       "    }\n",
       "\n",
       "    .dataframe tbody tr th {\n",
       "        vertical-align: top;\n",
       "    }\n",
       "\n",
       "    .dataframe thead th {\n",
       "        text-align: right;\n",
       "    }\n",
       "</style>\n",
       "<table border=\"1\" class=\"dataframe\">\n",
       "  <thead>\n",
       "    <tr style=\"text-align: right;\">\n",
       "      <th></th>\n",
       "      <th>Date</th>\n",
       "      <th>Temp_Avg</th>\n",
       "      <th>month</th>\n",
       "      <th>year</th>\n",
       "      <th>Apr</th>\n",
       "      <th>Aug</th>\n",
       "      <th>Dec</th>\n",
       "      <th>Feb</th>\n",
       "      <th>Jan</th>\n",
       "      <th>Jul</th>\n",
       "      <th>Jun</th>\n",
       "      <th>Mar</th>\n",
       "      <th>May</th>\n",
       "      <th>Nov</th>\n",
       "      <th>Oct</th>\n",
       "      <th>Sep</th>\n",
       "      <th>t</th>\n",
       "      <th>t_squared</th>\n",
       "      <th>log_T_Avg</th>\n",
       "    </tr>\n",
       "  </thead>\n",
       "  <tbody>\n",
       "    <tr>\n",
       "      <th>0</th>\n",
       "      <td>2019-01-01</td>\n",
       "      <td>30.7</td>\n",
       "      <td>Jan</td>\n",
       "      <td>2019</td>\n",
       "      <td>0</td>\n",
       "      <td>0</td>\n",
       "      <td>0</td>\n",
       "      <td>0</td>\n",
       "      <td>1</td>\n",
       "      <td>0</td>\n",
       "      <td>0</td>\n",
       "      <td>0</td>\n",
       "      <td>0</td>\n",
       "      <td>0</td>\n",
       "      <td>0</td>\n",
       "      <td>0</td>\n",
       "      <td>1</td>\n",
       "      <td>1</td>\n",
       "      <td>3.424263</td>\n",
       "    </tr>\n",
       "    <tr>\n",
       "      <th>1</th>\n",
       "      <td>2019-02-01</td>\n",
       "      <td>33.5</td>\n",
       "      <td>Feb</td>\n",
       "      <td>2019</td>\n",
       "      <td>0</td>\n",
       "      <td>0</td>\n",
       "      <td>0</td>\n",
       "      <td>1</td>\n",
       "      <td>0</td>\n",
       "      <td>0</td>\n",
       "      <td>0</td>\n",
       "      <td>0</td>\n",
       "      <td>0</td>\n",
       "      <td>0</td>\n",
       "      <td>0</td>\n",
       "      <td>0</td>\n",
       "      <td>2</td>\n",
       "      <td>4</td>\n",
       "      <td>3.511545</td>\n",
       "    </tr>\n",
       "    <tr>\n",
       "      <th>2</th>\n",
       "      <td>2019-03-01</td>\n",
       "      <td>39.1</td>\n",
       "      <td>Mar</td>\n",
       "      <td>2019</td>\n",
       "      <td>0</td>\n",
       "      <td>0</td>\n",
       "      <td>0</td>\n",
       "      <td>0</td>\n",
       "      <td>0</td>\n",
       "      <td>0</td>\n",
       "      <td>0</td>\n",
       "      <td>1</td>\n",
       "      <td>0</td>\n",
       "      <td>0</td>\n",
       "      <td>0</td>\n",
       "      <td>0</td>\n",
       "      <td>3</td>\n",
       "      <td>9</td>\n",
       "      <td>3.666122</td>\n",
       "    </tr>\n",
       "    <tr>\n",
       "      <th>3</th>\n",
       "      <td>2019-04-01</td>\n",
       "      <td>51.7</td>\n",
       "      <td>Apr</td>\n",
       "      <td>2019</td>\n",
       "      <td>1</td>\n",
       "      <td>0</td>\n",
       "      <td>0</td>\n",
       "      <td>0</td>\n",
       "      <td>0</td>\n",
       "      <td>0</td>\n",
       "      <td>0</td>\n",
       "      <td>0</td>\n",
       "      <td>0</td>\n",
       "      <td>0</td>\n",
       "      <td>0</td>\n",
       "      <td>0</td>\n",
       "      <td>4</td>\n",
       "      <td>16</td>\n",
       "      <td>3.945458</td>\n",
       "    </tr>\n",
       "    <tr>\n",
       "      <th>4</th>\n",
       "      <td>2019-05-01</td>\n",
       "      <td>57.8</td>\n",
       "      <td>May</td>\n",
       "      <td>2019</td>\n",
       "      <td>0</td>\n",
       "      <td>0</td>\n",
       "      <td>0</td>\n",
       "      <td>0</td>\n",
       "      <td>0</td>\n",
       "      <td>0</td>\n",
       "      <td>0</td>\n",
       "      <td>0</td>\n",
       "      <td>1</td>\n",
       "      <td>0</td>\n",
       "      <td>0</td>\n",
       "      <td>0</td>\n",
       "      <td>5</td>\n",
       "      <td>25</td>\n",
       "      <td>4.056989</td>\n",
       "    </tr>\n",
       "  </tbody>\n",
       "</table>\n",
       "</div>"
      ],
      "text/plain": [
       "        Date  Temp_Avg month  year  Apr  Aug  Dec  Feb  Jan  Jul  Jun  Mar  \\\n",
       "0 2019-01-01      30.7   Jan  2019    0    0    0    0    1    0    0    0   \n",
       "1 2019-02-01      33.5   Feb  2019    0    0    0    1    0    0    0    0   \n",
       "2 2019-03-01      39.1   Mar  2019    0    0    0    0    0    0    0    1   \n",
       "3 2019-04-01      51.7   Apr  2019    1    0    0    0    0    0    0    0   \n",
       "4 2019-05-01      57.8   May  2019    0    0    0    0    0    0    0    0   \n",
       "\n",
       "   May  Nov  Oct  Sep  t  t_squared  log_T_Avg  \n",
       "0    0    0    0    0  1          1   3.424263  \n",
       "1    0    0    0    0  2          4   3.511545  \n",
       "2    0    0    0    0  3          9   3.666122  \n",
       "3    0    0    0    0  4         16   3.945458  \n",
       "4    1    0    0    0  5         25   4.056989  "
      ]
     },
     "execution_count": 36,
     "metadata": {},
     "output_type": "execute_result"
    }
   ],
   "source": [
    "climate1.head()"
   ]
  },
  {
   "cell_type": "markdown",
   "metadata": {},
   "source": [
    "Splitting the data"
   ]
  },
  {
   "cell_type": "code",
   "execution_count": 37,
   "metadata": {},
   "outputs": [],
   "source": [
    "# Split the data into training and testing sets\n",
    "train_size = int(len(climate1) * 0.8)\n",
    "Train, Test = climate1[:train_size], climate1[train_size:]"
   ]
  },
  {
   "cell_type": "code",
   "execution_count": 38,
   "metadata": {},
   "outputs": [
    {
     "data": {
      "text/html": [
       "<div>\n",
       "<style scoped>\n",
       "    .dataframe tbody tr th:only-of-type {\n",
       "        vertical-align: middle;\n",
       "    }\n",
       "\n",
       "    .dataframe tbody tr th {\n",
       "        vertical-align: top;\n",
       "    }\n",
       "\n",
       "    .dataframe thead th {\n",
       "        text-align: right;\n",
       "    }\n",
       "</style>\n",
       "<table border=\"1\" class=\"dataframe\">\n",
       "  <thead>\n",
       "    <tr style=\"text-align: right;\">\n",
       "      <th></th>\n",
       "      <th>Date</th>\n",
       "      <th>Temp_Avg</th>\n",
       "      <th>month</th>\n",
       "      <th>year</th>\n",
       "      <th>Apr</th>\n",
       "      <th>Aug</th>\n",
       "      <th>Dec</th>\n",
       "      <th>Feb</th>\n",
       "      <th>Jan</th>\n",
       "      <th>Jul</th>\n",
       "      <th>Jun</th>\n",
       "      <th>Mar</th>\n",
       "      <th>May</th>\n",
       "      <th>Nov</th>\n",
       "      <th>Oct</th>\n",
       "      <th>Sep</th>\n",
       "      <th>t</th>\n",
       "      <th>t_squared</th>\n",
       "      <th>log_T_Avg</th>\n",
       "    </tr>\n",
       "  </thead>\n",
       "  <tbody>\n",
       "    <tr>\n",
       "      <th>47</th>\n",
       "      <td>2022-12-01</td>\n",
       "      <td>37.3</td>\n",
       "      <td>Dec</td>\n",
       "      <td>2022</td>\n",
       "      <td>0</td>\n",
       "      <td>0</td>\n",
       "      <td>1</td>\n",
       "      <td>0</td>\n",
       "      <td>0</td>\n",
       "      <td>0</td>\n",
       "      <td>0</td>\n",
       "      <td>0</td>\n",
       "      <td>0</td>\n",
       "      <td>0</td>\n",
       "      <td>0</td>\n",
       "      <td>0</td>\n",
       "      <td>48</td>\n",
       "      <td>2304</td>\n",
       "      <td>3.618993</td>\n",
       "    </tr>\n",
       "    <tr>\n",
       "      <th>48</th>\n",
       "      <td>2023-01-01</td>\n",
       "      <td>37.8</td>\n",
       "      <td>Jan</td>\n",
       "      <td>2023</td>\n",
       "      <td>0</td>\n",
       "      <td>0</td>\n",
       "      <td>0</td>\n",
       "      <td>0</td>\n",
       "      <td>1</td>\n",
       "      <td>0</td>\n",
       "      <td>0</td>\n",
       "      <td>0</td>\n",
       "      <td>0</td>\n",
       "      <td>0</td>\n",
       "      <td>0</td>\n",
       "      <td>0</td>\n",
       "      <td>49</td>\n",
       "      <td>2401</td>\n",
       "      <td>3.632309</td>\n",
       "    </tr>\n",
       "    <tr>\n",
       "      <th>49</th>\n",
       "      <td>2023-02-01</td>\n",
       "      <td>34.9</td>\n",
       "      <td>Feb</td>\n",
       "      <td>2023</td>\n",
       "      <td>0</td>\n",
       "      <td>0</td>\n",
       "      <td>0</td>\n",
       "      <td>1</td>\n",
       "      <td>0</td>\n",
       "      <td>0</td>\n",
       "      <td>0</td>\n",
       "      <td>0</td>\n",
       "      <td>0</td>\n",
       "      <td>0</td>\n",
       "      <td>0</td>\n",
       "      <td>0</td>\n",
       "      <td>50</td>\n",
       "      <td>2500</td>\n",
       "      <td>3.552487</td>\n",
       "    </tr>\n",
       "    <tr>\n",
       "      <th>50</th>\n",
       "      <td>2023-03-01</td>\n",
       "      <td>40.8</td>\n",
       "      <td>Mar</td>\n",
       "      <td>2023</td>\n",
       "      <td>0</td>\n",
       "      <td>0</td>\n",
       "      <td>0</td>\n",
       "      <td>0</td>\n",
       "      <td>0</td>\n",
       "      <td>0</td>\n",
       "      <td>0</td>\n",
       "      <td>1</td>\n",
       "      <td>0</td>\n",
       "      <td>0</td>\n",
       "      <td>0</td>\n",
       "      <td>0</td>\n",
       "      <td>51</td>\n",
       "      <td>2601</td>\n",
       "      <td>3.708682</td>\n",
       "    </tr>\n",
       "    <tr>\n",
       "      <th>51</th>\n",
       "      <td>2023-04-01</td>\n",
       "      <td>50.8</td>\n",
       "      <td>Apr</td>\n",
       "      <td>2023</td>\n",
       "      <td>1</td>\n",
       "      <td>0</td>\n",
       "      <td>0</td>\n",
       "      <td>0</td>\n",
       "      <td>0</td>\n",
       "      <td>0</td>\n",
       "      <td>0</td>\n",
       "      <td>0</td>\n",
       "      <td>0</td>\n",
       "      <td>0</td>\n",
       "      <td>0</td>\n",
       "      <td>0</td>\n",
       "      <td>52</td>\n",
       "      <td>2704</td>\n",
       "      <td>3.927896</td>\n",
       "    </tr>\n",
       "    <tr>\n",
       "      <th>52</th>\n",
       "      <td>2023-05-01</td>\n",
       "      <td>60.1</td>\n",
       "      <td>May</td>\n",
       "      <td>2023</td>\n",
       "      <td>0</td>\n",
       "      <td>0</td>\n",
       "      <td>0</td>\n",
       "      <td>0</td>\n",
       "      <td>0</td>\n",
       "      <td>0</td>\n",
       "      <td>0</td>\n",
       "      <td>0</td>\n",
       "      <td>1</td>\n",
       "      <td>0</td>\n",
       "      <td>0</td>\n",
       "      <td>0</td>\n",
       "      <td>53</td>\n",
       "      <td>2809</td>\n",
       "      <td>4.096010</td>\n",
       "    </tr>\n",
       "    <tr>\n",
       "      <th>53</th>\n",
       "      <td>2023-06-01</td>\n",
       "      <td>65.9</td>\n",
       "      <td>Jun</td>\n",
       "      <td>2023</td>\n",
       "      <td>0</td>\n",
       "      <td>0</td>\n",
       "      <td>0</td>\n",
       "      <td>0</td>\n",
       "      <td>0</td>\n",
       "      <td>0</td>\n",
       "      <td>1</td>\n",
       "      <td>0</td>\n",
       "      <td>0</td>\n",
       "      <td>0</td>\n",
       "      <td>0</td>\n",
       "      <td>0</td>\n",
       "      <td>54</td>\n",
       "      <td>2916</td>\n",
       "      <td>4.188138</td>\n",
       "    </tr>\n",
       "    <tr>\n",
       "      <th>54</th>\n",
       "      <td>2023-07-01</td>\n",
       "      <td>75.4</td>\n",
       "      <td>Jul</td>\n",
       "      <td>2023</td>\n",
       "      <td>0</td>\n",
       "      <td>0</td>\n",
       "      <td>0</td>\n",
       "      <td>0</td>\n",
       "      <td>0</td>\n",
       "      <td>1</td>\n",
       "      <td>0</td>\n",
       "      <td>0</td>\n",
       "      <td>0</td>\n",
       "      <td>0</td>\n",
       "      <td>0</td>\n",
       "      <td>0</td>\n",
       "      <td>55</td>\n",
       "      <td>3025</td>\n",
       "      <td>4.322807</td>\n",
       "    </tr>\n",
       "    <tr>\n",
       "      <th>55</th>\n",
       "      <td>2023-08-01</td>\n",
       "      <td>71.8</td>\n",
       "      <td>Aug</td>\n",
       "      <td>2023</td>\n",
       "      <td>0</td>\n",
       "      <td>1</td>\n",
       "      <td>0</td>\n",
       "      <td>0</td>\n",
       "      <td>0</td>\n",
       "      <td>0</td>\n",
       "      <td>0</td>\n",
       "      <td>0</td>\n",
       "      <td>0</td>\n",
       "      <td>0</td>\n",
       "      <td>0</td>\n",
       "      <td>0</td>\n",
       "      <td>56</td>\n",
       "      <td>3136</td>\n",
       "      <td>4.273884</td>\n",
       "    </tr>\n",
       "    <tr>\n",
       "      <th>56</th>\n",
       "      <td>2023-09-01</td>\n",
       "      <td>67.4</td>\n",
       "      <td>Sep</td>\n",
       "      <td>2023</td>\n",
       "      <td>0</td>\n",
       "      <td>0</td>\n",
       "      <td>0</td>\n",
       "      <td>0</td>\n",
       "      <td>0</td>\n",
       "      <td>0</td>\n",
       "      <td>0</td>\n",
       "      <td>0</td>\n",
       "      <td>0</td>\n",
       "      <td>0</td>\n",
       "      <td>0</td>\n",
       "      <td>1</td>\n",
       "      <td>57</td>\n",
       "      <td>3249</td>\n",
       "      <td>4.210645</td>\n",
       "    </tr>\n",
       "    <tr>\n",
       "      <th>57</th>\n",
       "      <td>2023-10-01</td>\n",
       "      <td>59.2</td>\n",
       "      <td>Oct</td>\n",
       "      <td>2023</td>\n",
       "      <td>0</td>\n",
       "      <td>0</td>\n",
       "      <td>0</td>\n",
       "      <td>0</td>\n",
       "      <td>0</td>\n",
       "      <td>0</td>\n",
       "      <td>0</td>\n",
       "      <td>0</td>\n",
       "      <td>0</td>\n",
       "      <td>0</td>\n",
       "      <td>1</td>\n",
       "      <td>0</td>\n",
       "      <td>58</td>\n",
       "      <td>3364</td>\n",
       "      <td>4.080922</td>\n",
       "    </tr>\n",
       "    <tr>\n",
       "      <th>58</th>\n",
       "      <td>2023-11-01</td>\n",
       "      <td>43.7</td>\n",
       "      <td>Nov</td>\n",
       "      <td>2023</td>\n",
       "      <td>0</td>\n",
       "      <td>0</td>\n",
       "      <td>0</td>\n",
       "      <td>0</td>\n",
       "      <td>0</td>\n",
       "      <td>0</td>\n",
       "      <td>0</td>\n",
       "      <td>0</td>\n",
       "      <td>0</td>\n",
       "      <td>1</td>\n",
       "      <td>0</td>\n",
       "      <td>0</td>\n",
       "      <td>59</td>\n",
       "      <td>3481</td>\n",
       "      <td>3.777348</td>\n",
       "    </tr>\n",
       "  </tbody>\n",
       "</table>\n",
       "</div>"
      ],
      "text/plain": [
       "         Date  Temp_Avg month  year  Apr  Aug  Dec  Feb  Jan  Jul  Jun  Mar  \\\n",
       "47 2022-12-01      37.3   Dec  2022    0    0    1    0    0    0    0    0   \n",
       "48 2023-01-01      37.8   Jan  2023    0    0    0    0    1    0    0    0   \n",
       "49 2023-02-01      34.9   Feb  2023    0    0    0    1    0    0    0    0   \n",
       "50 2023-03-01      40.8   Mar  2023    0    0    0    0    0    0    0    1   \n",
       "51 2023-04-01      50.8   Apr  2023    1    0    0    0    0    0    0    0   \n",
       "52 2023-05-01      60.1   May  2023    0    0    0    0    0    0    0    0   \n",
       "53 2023-06-01      65.9   Jun  2023    0    0    0    0    0    0    1    0   \n",
       "54 2023-07-01      75.4   Jul  2023    0    0    0    0    0    1    0    0   \n",
       "55 2023-08-01      71.8   Aug  2023    0    1    0    0    0    0    0    0   \n",
       "56 2023-09-01      67.4   Sep  2023    0    0    0    0    0    0    0    0   \n",
       "57 2023-10-01      59.2   Oct  2023    0    0    0    0    0    0    0    0   \n",
       "58 2023-11-01      43.7   Nov  2023    0    0    0    0    0    0    0    0   \n",
       "\n",
       "    May  Nov  Oct  Sep   t  t_squared  log_T_Avg  \n",
       "47    0    0    0    0  48       2304   3.618993  \n",
       "48    0    0    0    0  49       2401   3.632309  \n",
       "49    0    0    0    0  50       2500   3.552487  \n",
       "50    0    0    0    0  51       2601   3.708682  \n",
       "51    0    0    0    0  52       2704   3.927896  \n",
       "52    1    0    0    0  53       2809   4.096010  \n",
       "53    0    0    0    0  54       2916   4.188138  \n",
       "54    0    0    0    0  55       3025   4.322807  \n",
       "55    0    0    0    0  56       3136   4.273884  \n",
       "56    0    0    0    1  57       3249   4.210645  \n",
       "57    0    0    1    0  58       3364   4.080922  \n",
       "58    0    1    0    0  59       3481   3.777348  "
      ]
     },
     "execution_count": 38,
     "metadata": {},
     "output_type": "execute_result"
    }
   ],
   "source": [
    "Test"
   ]
  },
  {
   "cell_type": "markdown",
   "metadata": {},
   "source": [
    "# Linear Model"
   ]
  },
  {
   "cell_type": "code",
   "execution_count": 39,
   "metadata": {},
   "outputs": [
    {
     "data": {
      "text/plain": [
       "14.561381446891192"
      ]
     },
     "execution_count": 39,
     "metadata": {},
     "output_type": "execute_result"
    }
   ],
   "source": [
    "#Calculating the RMSE value between the actual and predicted values using the Linear Model\n",
    "import statsmodels.formula.api as smf \n",
    "\n",
    "linear_model = smf.ols('Temp_Avg~t',data=Train).fit()\n",
    "pred_linear =  pd.Series(linear_model.predict(pd.DataFrame(Test['t'])))\n",
    "rmse_linear = np.sqrt(np.mean((np.array(Test['Temp_Avg'])-np.array(pred_linear))**2))\n",
    "rmse_linear"
   ]
  },
  {
   "cell_type": "markdown",
   "metadata": {},
   "source": [
    "# Exponential Model"
   ]
  },
  {
   "cell_type": "code",
   "execution_count": 40,
   "metadata": {},
   "outputs": [
    {
     "data": {
      "text/plain": [
       "4.366877336920034e+25"
      ]
     },
     "execution_count": 40,
     "metadata": {},
     "output_type": "execute_result"
    }
   ],
   "source": [
    "#Calculating the RMSE value between the actual and predicted values using the Exponential Model\n",
    "Exp = smf.ols('Temp_Avg~t',data=Train).fit()\n",
    "pred_Exp = pd.Series(Exp.predict(pd.DataFrame(Test['t'])))\n",
    "rmse_Exp = np.sqrt(np.mean((np.array(Test['Temp_Avg'])-np.array(np.exp(pred_Exp)))**2))\n",
    "rmse_Exp"
   ]
  },
  {
   "cell_type": "markdown",
   "metadata": {},
   "source": [
    "# Quadratic Model"
   ]
  },
  {
   "cell_type": "code",
   "execution_count": 41,
   "metadata": {},
   "outputs": [
    {
     "data": {
      "text/plain": [
       "14.663357297620024"
      ]
     },
     "execution_count": 41,
     "metadata": {},
     "output_type": "execute_result"
    }
   ],
   "source": [
    "#Calculating the RMSE value between the actual and predicted values using the Quadratic Model\n",
    "Quad = smf.ols('Temp_Avg~t+t_squared',data=Train).fit()\n",
    "pred_Quad = pd.Series(Quad.predict(Test[[\"t\",\"t_squared\"]]))\n",
    "rmse_Quad = np.sqrt(np.mean((np.array(Test['Temp_Avg'])-np.array(pred_Quad))**2))\n",
    "rmse_Quad"
   ]
  },
  {
   "cell_type": "markdown",
   "metadata": {},
   "source": [
    "# Additive Seasonality Model"
   ]
  },
  {
   "cell_type": "code",
   "execution_count": 42,
   "metadata": {},
   "outputs": [
    {
     "data": {
      "text/plain": [
       "2.5945299474371315"
      ]
     },
     "execution_count": 42,
     "metadata": {},
     "output_type": "execute_result"
    }
   ],
   "source": [
    "#Calculating the RMSE value between the actual and predicted values using the Additive Seasonality Model\n",
    "add_sea = smf.ols('Temp_Avg~Jan+Feb+Mar+Apr+May+Jun+Jul+Aug+Sep+Oct+Nov',data=Train).fit()\n",
    "pred_add_sea = pd.Series(add_sea.predict(Test[['Jan','Feb','Mar','Apr','May','Jun','Jul','Aug','Sep','Oct','Nov']]))\n",
    "rmse_add_sea = np.sqrt(np.mean((np.array(Test['Temp_Avg'])-np.array(pred_add_sea))**2))\n",
    "rmse_add_sea"
   ]
  },
  {
   "cell_type": "markdown",
   "metadata": {},
   "source": [
    "# Additive Seasonality Linear Model"
   ]
  },
  {
   "cell_type": "code",
   "execution_count": 43,
   "metadata": {},
   "outputs": [
    {
     "data": {
      "text/plain": [
       "2.627240252579258"
      ]
     },
     "execution_count": 43,
     "metadata": {},
     "output_type": "execute_result"
    }
   ],
   "source": [
    "#Calculating the RMSE value between the actual and predicted values using the Additive Seasonality Linear Model\n",
    "add_sea_linear = smf.ols('Temp_Avg~t+Jan+Feb+Mar+Apr+May+Jun+Jul+Aug+Sep+Oct+Nov',data=Train).fit()\n",
    "pred_add_sea_linear = pd.Series(add_sea_linear.predict(Test[['Jan','Feb','Mar','Apr','May','Jun','Jul','Aug','Sep','Oct','Nov','t']]))\n",
    "rmse_add_sea_linear = np.sqrt(np.mean((np.array(Test['Temp_Avg'])-np.array(pred_add_sea_linear))**2))\n",
    "rmse_add_sea_linear"
   ]
  },
  {
   "cell_type": "markdown",
   "metadata": {},
   "source": [
    "# Additive Seasonality Quadratic Model"
   ]
  },
  {
   "cell_type": "code",
   "execution_count": 44,
   "metadata": {},
   "outputs": [
    {
     "data": {
      "text/plain": [
       "2.7154204349891335"
      ]
     },
     "execution_count": 44,
     "metadata": {},
     "output_type": "execute_result"
    }
   ],
   "source": [
    "#Calculating the RMSE value between the actual and predicted values using the Additive Seasonality Quadratic Model\n",
    "add_sea_Quad = smf.ols('Temp_Avg~t+t_squared+Jan+Feb+Mar+Apr+May+Jun+Jul+Aug+Sep+Oct+Nov',data=Train).fit()\n",
    "pred_add_sea_quad = pd.Series(add_sea_Quad.predict(Test[['Jan','Feb','Mar','Apr','May','Jun','Jul','Aug','Sep','Oct','Nov','t','t_squared']]))\n",
    "rmse_add_sea_quad = np.sqrt(np.mean((np.array(Test['Temp_Avg'])-np.array(pred_add_sea_quad))**2))\n",
    "rmse_add_sea_quad"
   ]
  },
  {
   "cell_type": "markdown",
   "metadata": {},
   "source": [
    "# Multiplicative Seasonality Model"
   ]
  },
  {
   "cell_type": "code",
   "execution_count": 45,
   "metadata": {},
   "outputs": [
    {
     "data": {
      "text/plain": [
       "3.3196355602348806e+32"
      ]
     },
     "execution_count": 45,
     "metadata": {},
     "output_type": "execute_result"
    }
   ],
   "source": [
    "#Calculating the RMSE value between the actual and predicted values using the Multiplicative Seasonality Model\n",
    "Mul_sea = smf.ols('Temp_Avg~Jan+Feb+Mar+Apr+May+Jun+Jul+Aug+Sep+Oct+Nov',data = Train).fit()\n",
    "pred_Mult_sea = pd.Series(Mul_sea.predict(Test))\n",
    "rmse_Mult_sea = np.sqrt(np.mean((np.array(Test['Temp_Avg'])-np.array(np.exp(pred_Mult_sea)))**2))\n",
    "rmse_Mult_sea"
   ]
  },
  {
   "cell_type": "markdown",
   "metadata": {},
   "source": [
    "# Multiplicative Seasonality Linear Model"
   ]
  },
  {
   "cell_type": "code",
   "execution_count": 46,
   "metadata": {},
   "outputs": [
    {
     "data": {
      "text/plain": [
       "5.449201264582348e+32"
      ]
     },
     "execution_count": 46,
     "metadata": {},
     "output_type": "execute_result"
    }
   ],
   "source": [
    "#Calculating the RMSE value between the actual and predicted values using the Multiplicative Seasonality Linear Model\n",
    "Mul_sea_linear = smf.ols('Temp_Avg~t+Jan+Feb+Mar+Apr+May+Jun+Jul+Aug+Sep+Oct+Nov',data = Train).fit()\n",
    "pred_Mult_sea_linear = pd.Series(Mul_sea_linear.predict(Test))\n",
    "rmse_Mult_sea_linear = np.sqrt(np.mean((np.array(Test['Temp_Avg'])-np.array(np.exp(pred_Mult_sea_linear)))**2))\n",
    "rmse_Mult_sea_linear"
   ]
  },
  {
   "cell_type": "markdown",
   "metadata": {},
   "source": [
    "# Multiplicative Seasonality Quadratic Model"
   ]
  },
  {
   "cell_type": "code",
   "execution_count": 47,
   "metadata": {},
   "outputs": [
    {
     "data": {
      "text/plain": [
       "7.32472535598626e+32"
      ]
     },
     "execution_count": 47,
     "metadata": {},
     "output_type": "execute_result"
    }
   ],
   "source": [
    "#Calculating the RMSE value between the actual and predicted values using the Multiplicative Seasonality Quadratic Model\n",
    "Mul_quad_sea = smf.ols('Temp_Avg~t+t_squared+Jan+Feb+Mar+Apr+May+Jun+Jul+Aug+Sep+Oct+Nov',data = Train).fit()\n",
    "pred_Mult_quad_sea = pd.Series(Mul_quad_sea.predict(Test))\n",
    "rmse_Mult_quad_sea = np.sqrt(np.mean((np.array(Test['Temp_Avg'])-np.array(np.exp(pred_Mult_quad_sea)))**2))\n",
    "rmse_Mult_quad_sea "
   ]
  },
  {
   "cell_type": "markdown",
   "metadata": {},
   "source": [
    "Comparison of Results"
   ]
  },
  {
   "cell_type": "code",
   "execution_count": 48,
   "metadata": {},
   "outputs": [
    {
     "data": {
      "text/html": [
       "<div>\n",
       "<style scoped>\n",
       "    .dataframe tbody tr th:only-of-type {\n",
       "        vertical-align: middle;\n",
       "    }\n",
       "\n",
       "    .dataframe tbody tr th {\n",
       "        vertical-align: top;\n",
       "    }\n",
       "\n",
       "    .dataframe thead th {\n",
       "        text-align: right;\n",
       "    }\n",
       "</style>\n",
       "<table border=\"1\" class=\"dataframe\">\n",
       "  <thead>\n",
       "    <tr style=\"text-align: right;\">\n",
       "      <th></th>\n",
       "      <th>MODEL</th>\n",
       "      <th>RMSE_Values</th>\n",
       "    </tr>\n",
       "  </thead>\n",
       "  <tbody>\n",
       "    <tr>\n",
       "      <th>4</th>\n",
       "      <td>rmse_add_sea</td>\n",
       "      <td>2.594530e+00</td>\n",
       "    </tr>\n",
       "    <tr>\n",
       "      <th>8</th>\n",
       "      <td>rmse_add_sea_linear</td>\n",
       "      <td>2.627240e+00</td>\n",
       "    </tr>\n",
       "    <tr>\n",
       "      <th>5</th>\n",
       "      <td>rmse_add_sea_quad</td>\n",
       "      <td>2.715420e+00</td>\n",
       "    </tr>\n",
       "    <tr>\n",
       "      <th>1</th>\n",
       "      <td>rmse_linear</td>\n",
       "      <td>1.456138e+01</td>\n",
       "    </tr>\n",
       "    <tr>\n",
       "      <th>3</th>\n",
       "      <td>rmse_quad</td>\n",
       "      <td>1.466336e+01</td>\n",
       "    </tr>\n",
       "    <tr>\n",
       "      <th>2</th>\n",
       "      <td>rmse_exp</td>\n",
       "      <td>4.366877e+25</td>\n",
       "    </tr>\n",
       "    <tr>\n",
       "      <th>6</th>\n",
       "      <td>rmse_Mult_sea</td>\n",
       "      <td>3.319636e+32</td>\n",
       "    </tr>\n",
       "    <tr>\n",
       "      <th>7</th>\n",
       "      <td>rmse_Mult_sea_linear</td>\n",
       "      <td>5.449201e+32</td>\n",
       "    </tr>\n",
       "    <tr>\n",
       "      <th>0</th>\n",
       "      <td>rmse_Mult_quad_sea</td>\n",
       "      <td>7.324725e+32</td>\n",
       "    </tr>\n",
       "  </tbody>\n",
       "</table>\n",
       "</div>"
      ],
      "text/plain": [
       "                  MODEL   RMSE_Values\n",
       "4          rmse_add_sea  2.594530e+00\n",
       "8   rmse_add_sea_linear  2.627240e+00\n",
       "5     rmse_add_sea_quad  2.715420e+00\n",
       "1           rmse_linear  1.456138e+01\n",
       "3             rmse_quad  1.466336e+01\n",
       "2              rmse_exp  4.366877e+25\n",
       "6         rmse_Mult_sea  3.319636e+32\n",
       "7  rmse_Mult_sea_linear  5.449201e+32\n",
       "0    rmse_Mult_quad_sea  7.324725e+32"
      ]
     },
     "execution_count": 48,
     "metadata": {},
     "output_type": "execute_result"
    }
   ],
   "source": [
    "#Compare the results \n",
    "data = {\"MODEL\":pd.Series([\"rmse_Mult_quad_sea\",\"rmse_linear\",\"rmse_exp\",\"rmse_quad\",\"rmse_add_sea\",\"rmse_add_sea_quad\",\"rmse_Mult_sea\",\"rmse_Mult_sea_linear\",\"rmse_add_sea_linear\"]),\"RMSE_Values\":pd.Series([rmse_Mult_quad_sea,rmse_linear,rmse_Exp,rmse_Quad,rmse_add_sea,rmse_add_sea_quad,rmse_Mult_sea,rmse_Mult_sea_linear,rmse_add_sea_linear])}\n",
    "table_rmse=pd.DataFrame(data)\n",
    "table_rmse.sort_values(['RMSE_Values'])"
   ]
  },
  {
   "cell_type": "markdown",
   "metadata": {},
   "source": [
    "# Based on the least RMSE value: Final Model (Additive Seasonality Model) Plot on Test Data"
   ]
  },
  {
   "cell_type": "code",
   "execution_count": 49,
   "metadata": {},
   "outputs": [],
   "source": [
    "#Additive Seasonality Quadratic \n",
    "add_sea = smf.ols('Temp_Avg~Jan+Feb+Mar+Apr+May+Jun+Jul+Aug+Sep+Oct+Nov',data=Train).fit()"
   ]
  },
  {
   "cell_type": "code",
   "execution_count": 50,
   "metadata": {},
   "outputs": [],
   "source": [
    "forecast = pd.Series(add_sea.predict(Test))"
   ]
  },
  {
   "cell_type": "code",
   "execution_count": 51,
   "metadata": {},
   "outputs": [
    {
     "data": {
      "image/png": "[encoded data removed]",
      "text/plain": [
       "<Figure size 640x480 with 1 Axes>"
      ]
     },
     "metadata": {},
     "output_type": "display_data"
    }
   ],
   "source": [
    "# Plot the actual vs predicted values\n",
    "import matplotlib.pyplot as plt\n",
    "\n",
    "plt.plot(Test['Temp_Avg'], color = 'blue', label='Actual')\n",
    "plt.plot(forecast, color='red', label='Predicted')\n",
    "plt.title(f'Additive Seasonality Model on Test Data')\n",
    "plt.legend()\n",
    "plt.show()"
   ]
  },
  {
   "cell_type": "markdown",
   "metadata": {},
   "source": [
    "# Based on the least RMSE value: Final Model (Additive Seasonality Quadratic Model) for the entire dataset"
   ]
  },
  {
   "cell_type": "code",
   "execution_count": 52,
   "metadata": {},
   "outputs": [],
   "source": [
    "#Additive Seasonality Quadratic\n",
    "add_sea = smf.ols('Temp_Avg~Jan+Feb+Mar+Apr+May+Jun+Jul+Aug+Sep+Oct+Nov',data=climate1).fit()"
   ]
  },
  {
   "cell_type": "code",
   "execution_count": 53,
   "metadata": {},
   "outputs": [
    {
     "name": "stdout",
     "output_type": "stream",
     "text": [
      "0    37.425\n",
      "1    37.425\n",
      "2    37.425\n",
      "3    37.425\n",
      "4    37.425\n",
      "5    37.425\n",
      "6    37.425\n",
      "7    37.425\n",
      "8    37.425\n",
      "9    37.425\n",
      "dtype: float64\n"
     ]
    }
   ],
   "source": [
    "#Create a DataFrame for the next 10 periods\n",
    "future_periods = pd.DataFrame({\n",
    "    't': range(len(climate) + 1, len(climate) + 11),  # Assuming 't' is the time variable\n",
    "    't_squared': np.arange(len(climate) + 1, len(climate) + 11)**2,  # Quadratic term\n",
    "    'Jan': 0, 'Feb': 0, 'Mar': 0, 'Apr': 0, 'May': 0, 'Jun': 0,\n",
    "    'Jul': 0, 'Aug': 0, 'Sep': 0, 'Oct': 0, 'Nov': 0  # Set seasonal variables for future periods\n",
    "})\n",
    "\n",
    "#Use the fitted model to predict values for the next 10 periods\n",
    "forecast = add_sea.predict(future_periods)\n",
    "\n",
    "#Display the forecast values\n",
    "print(forecast)"
   ]
  },
  {
   "cell_type": "markdown",
   "metadata": {},
   "source": [
    "# 3. Time Series Forecasting using ARIMA Model"
   ]
  },
  {
   "cell_type": "code",
   "execution_count": 54,
   "metadata": {},
   "outputs": [],
   "source": [
    "#Importing the Libraries\n",
    "import pandas as pd\n",
    "import numpy as np\n",
    "from statsmodels.tsa.arima.model import ARIMA\n",
    "from sklearn.metrics import mean_squared_error\n",
    "from math import sqrt\n",
    "import itertools\n",
    "import statsmodels.api as sm\n",
    "import matplotlib.pyplot as plt\n",
    "import itertools"
   ]
  },
  {
   "cell_type": "code",
   "execution_count": 55,
   "metadata": {},
   "outputs": [],
   "source": [
    "#Read the Dataset\n",
    "climate = pd.read_excel(\"C:/Users/sujik/OneDrive/Documents/MS - Data Science/Semester 3 (Fall_23)/MTH 522 - Advanced Mathematical Stats/Project 3/Boston_climate.xlsx\")"
   ]
  },
  {
   "cell_type": "code",
   "execution_count": 56,
   "metadata": {},
   "outputs": [],
   "source": [
    "#Converts the \"Date\" column in the \"climate\" DataFrame to a datetime format using Pandas' pd.to_datetime function and then sets the \"Date\" column as the index of the DataFrame using set_index.\n",
    "from statsmodels.tsa.arima.model import ARIMA\n",
    "\n",
    "climate['Date'] = pd.to_datetime(climate['Date'])\n",
    "climate.set_index('Date', inplace=True)"
   ]
  },
  {
   "cell_type": "code",
   "execution_count": 57,
   "metadata": {},
   "outputs": [
    {
     "data": {
      "text/html": [
       "<div>\n",
       "<style scoped>\n",
       "    .dataframe tbody tr th:only-of-type {\n",
       "        vertical-align: middle;\n",
       "    }\n",
       "\n",
       "    .dataframe tbody tr th {\n",
       "        vertical-align: top;\n",
       "    }\n",
       "\n",
       "    .dataframe thead th {\n",
       "        text-align: right;\n",
       "    }\n",
       "</style>\n",
       "<table border=\"1\" class=\"dataframe\">\n",
       "  <thead>\n",
       "    <tr style=\"text-align: right;\">\n",
       "      <th></th>\n",
       "      <th>Temp_Avg</th>\n",
       "    </tr>\n",
       "    <tr>\n",
       "      <th>Date</th>\n",
       "      <th></th>\n",
       "    </tr>\n",
       "  </thead>\n",
       "  <tbody>\n",
       "    <tr>\n",
       "      <th>2019-01-01</th>\n",
       "      <td>30.7</td>\n",
       "    </tr>\n",
       "    <tr>\n",
       "      <th>2019-02-01</th>\n",
       "      <td>33.5</td>\n",
       "    </tr>\n",
       "    <tr>\n",
       "      <th>2019-03-01</th>\n",
       "      <td>39.1</td>\n",
       "    </tr>\n",
       "    <tr>\n",
       "      <th>2019-04-01</th>\n",
       "      <td>51.7</td>\n",
       "    </tr>\n",
       "    <tr>\n",
       "      <th>2019-05-01</th>\n",
       "      <td>57.8</td>\n",
       "    </tr>\n",
       "  </tbody>\n",
       "</table>\n",
       "</div>"
      ],
      "text/plain": [
       "            Temp_Avg\n",
       "Date                \n",
       "2019-01-01      30.7\n",
       "2019-02-01      33.5\n",
       "2019-03-01      39.1\n",
       "2019-04-01      51.7\n",
       "2019-05-01      57.8"
      ]
     },
     "execution_count": 57,
     "metadata": {},
     "output_type": "execute_result"
    }
   ],
   "source": [
    "climate.head()"
   ]
  },
  {
   "cell_type": "markdown",
   "metadata": {},
   "source": [
    "### Stationarity Check"
   ]
  },
  {
   "cell_type": "code",
   "execution_count": 58,
   "metadata": {},
   "outputs": [
    {
     "name": "stdout",
     "output_type": "stream",
     "text": [
      "ADF Statistic: -8.670353597200837\n",
      "p-value: 4.564129009307574e-14\n"
     ]
    }
   ],
   "source": [
    "from statsmodels.tsa.stattools import adfuller\n",
    "\n",
    "result = adfuller(climate['Temp_Avg'])\n",
    "print('ADF Statistic:', result[0])\n",
    "print('p-value:', result[1])"
   ]
  },
  {
   "cell_type": "markdown",
   "metadata": {},
   "source": [
    "The p-value obtained from the Augmented Dickey-Fuller (ADF) test is used to determine the stationarity of a time series. p-value ≤ 0.05: If the p-value is less than or equal to 0.05, we reject the null hypothesis. This indicates that there is enough evidence to suggest that the time series is stationary. In other words, the time series has no unit root, and it is relatively stable over time.\n",
    "\n",
    "In this case, with a p-value of 4.564129009307574e-14 (a very small value close to zero), you would reject the null hypothesis. This suggests that your temperature time series is likely stationary, which is a good prerequisite for applying models like ARIMA that assume stationarity."
   ]
  },
  {
   "cell_type": "markdown",
   "metadata": {
    "id": "VWN_jYjVeAH6"
   },
   "source": [
    "Splitting Data"
   ]
  },
  {
   "cell_type": "code",
   "execution_count": 59,
   "metadata": {
    "colab": {
     "base_uri": "https://localhost:8080/",
     "height": 423
    },
    "id": "FK3Fc4ZzmgNz",
    "outputId": "9b0f9de2-a285-4a60-e595-10b25fef5e69"
   },
   "outputs": [],
   "source": [
    "# Split the data into training and testing sets\n",
    "train_size = int(len(climate) * 0.8)\n",
    "Train, Test = climate[:train_size], climate[train_size:]"
   ]
  },
  {
   "cell_type": "markdown",
   "metadata": {},
   "source": [
    "### Grid Search for Best Hyper parameters selection"
   ]
  },
  {
   "cell_type": "code",
   "execution_count": 60,
   "metadata": {},
   "outputs": [
    {
     "name": "stdout",
     "output_type": "stream",
     "text": [
      "Best parameters: (4, 1, 3), Best RMSE: 2.1215219728704655\n"
     ]
    }
   ],
   "source": [
    "p = d = q = range(0, 6)\n",
    "pdq = list(itertools.product(p, d, q))\n",
    "\n",
    "best_rmse = float('inf')\n",
    "best_params = None\n",
    "\n",
    "for param in pdq:\n",
    "    try:\n",
    "        model = ARIMA(Train, order=param)\n",
    "        fit_model = model.fit()\n",
    "        forecast = fit_model.forecast(steps=len(Test))\n",
    "        rmse = sqrt(mean_squared_error(Test, forecast))\n",
    "\n",
    "        if rmse < best_rmse:\n",
    "            best_rmse = rmse\n",
    "            best_params = param\n",
    "\n",
    "    except:\n",
    "        continue\n",
    "\n",
    "print(f'Best parameters: {best_params}, Best RMSE: {best_rmse}')"
   ]
  },
  {
   "cell_type": "markdown",
   "metadata": {},
   "source": [
    "# Final ARIMA Model (based on the best parameters) Plot on Test Data"
   ]
  },
  {
   "cell_type": "code",
   "execution_count": 61,
   "metadata": {
    "scrolled": true
   },
   "outputs": [],
   "source": [
    "# Fit the ARIMA model\n",
    "model = ARIMA(Train, order=best_params)\n",
    "fit_model = model.fit()"
   ]
  },
  {
   "cell_type": "code",
   "execution_count": 62,
   "metadata": {},
   "outputs": [
    {
     "name": "stdout",
     "output_type": "stream",
     "text": [
      "Root Mean Squared Error (RMSE): 2.1215219728704655\n"
     ]
    },
    {
     "data": {
      "image/png": "[encoded data removed]",
      "text/plain": [
       "<Figure size 640x480 with 1 Axes>"
      ]
     },
     "metadata": {},
     "output_type": "display_data"
    }
   ],
   "source": [
    "# Forecast the test set\n",
    "forecast = fit_model.forecast(steps=len(Test))\n",
    "\n",
    "# Calculate the RMSE (Root Mean Squared Error)\n",
    "rmse = sqrt(mean_squared_error(Test, forecast))\n",
    "print(f'Root Mean Squared Error (RMSE): {rmse}')\n",
    "\n",
    "# Plot the actual vs predicted values\n",
    "import matplotlib.pyplot as plt\n",
    "\n",
    "plt.plot(Test, label='Actual')\n",
    "plt.plot(forecast, color='red', label='Predicted')\n",
    "plt.title(f'ARIMA Model Forecast on Test Data')\n",
    "plt.legend()\n",
    "plt.show()"
   ]
  },
  {
   "cell_type": "markdown",
   "metadata": {},
   "source": [
    "# Final ARIMA Model based on the best parameters for the entire dataset"
   ]
  },
  {
   "cell_type": "code",
   "execution_count": 63,
   "metadata": {},
   "outputs": [
    {
     "data": {
      "image/png": "[encoded data removed]",
      "text/plain": [
       "<Figure size 640x480 with 1 Axes>"
      ]
     },
     "metadata": {},
     "output_type": "display_data"
    }
   ],
   "source": [
    "# Fit the final model with the best parameters\n",
    "final_model = ARIMA(climate, order=best_params)\n",
    "final_fit_model = final_model.fit()\n",
    "\n",
    "# Forecast the entire dataset\n",
    "forecast_all = final_fit_model.forecast(steps=36)\n",
    "\n",
    "# Plot the actual vs. predicted values for the entire dataset\n",
    "plt.plot(climate, label='Actual')\n",
    "plt.plot(forecast_all, color='red', label='Predicted')\n",
    "plt.title(f'ARIMA{best_params} on Full Dataset - Forecast for next 36 months')\n",
    "plt.legend()\n",
    "plt.show()"
   ]
  }
 ],
 "metadata": {
  "colab": {
   "provenance": []
  },
  "kernelspec": {
   "display_name": "Python 3 (ipykernel)",
   "language": "python",
   "name": "python3"
  },
  "language_info": {
   "codemirror_mode": {
    "name": "ipython",
    "version": 3
   },
   "file_extension": ".py",
   "mimetype": "text/x-python",
   "name": "python",
   "nbconvert_exporter": "python",
   "pygments_lexer": "ipython3",
   "version": "3.10.9"
  }
 },
 "nbformat": 4,
 "nbformat_minor": 1
}
